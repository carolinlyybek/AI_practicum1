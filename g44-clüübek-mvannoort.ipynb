{
 "cells": [
  {
   "cell_type": "markdown",
   "metadata": {
    "colab_type": "text",
    "id": "5p8wNfqaoPWp"
   },
   "source": [
    "# Provided code\n",
    "\n",
    "You shouldn't need to change anything in this section."
   ]
  },
  {
   "cell_type": "markdown",
   "metadata": {
    "colab_type": "text",
    "id": "4KkORWl2F6M9"
   },
   "source": [
    "### Load data to Colab"
   ]
  },
  {
   "cell_type": "code",
   "execution_count": 3,
   "metadata": {
    "colab": {
     "base_uri": "https://localhost:8080/",
     "height": 72
    },
    "colab_type": "code",
    "id": "kSqty85NFq-E",
    "outputId": "f676ecf1-4364-4606-f061-d2f0f62b714d"
   },
   "outputs": [
    {
     "name": "stdout",
     "output_type": "stream",
     "text": [
      "USA-road-d.NY.gr.txt\n",
      "USA-road-t.NY.gr.txt\n",
      "USA-road-d.NY.co.txt\n"
     ]
    }
   ],
   "source": [
    "if False:  # manual loading\n",
    "    from google.colab import file\n",
    "    uploaded = files.upload()  # then browse, select the files\n",
    "    \n",
    "else:  # automatic loading\n",
    "    import requests\n",
    "    import gzip\n",
    "    \n",
    "    filepath_d_gr = 'http://users.diag.uniroma1.it/challenge9/data/USA-road-d/' + 'USA-road-d.NY.gr.gz'\n",
    "    filepath_t_gr = 'http://users.diag.uniroma1.it/challenge9/data/USA-road-t/' + 'USA-road-t.NY.gr.gz'\n",
    "    filepath_d_co = 'http://users.diag.uniroma1.it/challenge9/data/USA-road-d/' + 'USA-road-d.NY.co.gz'\n",
    "    \n",
    "    def loader(url):\n",
    "        name = url.rsplit('/', 1)[1].rsplit('.', 1)[0]\n",
    "        savename = name + '.txt'\n",
    "        \n",
    "        with open(savename, 'wb') as f_out:\n",
    "            with requests.get(url) as r:\n",
    "                f_in = gzip.decompress(r.content)\n",
    "                f_out.write(f_in)\n",
    "                \n",
    "        print(savename)\n",
    "            \n",
    "    loader(filepath_d_gr)\n",
    "    loader(filepath_t_gr)\n",
    "    loader(filepath_d_co)"
   ]
  },
  {
   "cell_type": "markdown",
   "metadata": {
    "colab_type": "text",
    "id": "MgQyZNbXoW1m"
   },
   "source": [
    "### Graph and Vertex classes"
   ]
  },
  {
   "cell_type": "code",
   "execution_count": 4,
   "metadata": {
    "colab": {},
    "colab_type": "code",
    "id": "ywNJyeOdH0DE"
   },
   "outputs": [],
   "source": [
    "# Vertex implementation\n",
    "class Vertex:\n",
    "    # Initialization of a vertex, given a neighbor and the corresponding weight\n",
    "    # Each vertex contains a list of neighbors and corresponding weights\n",
    "    def __init__(self, i, neighbor_index, weight):\n",
    "        self.index = i\n",
    "        self.neighbors = [neighbor_index]\n",
    "        self.weights = [weight]\n",
    "        \n",
    "    def getNeighbors(self):\n",
    "        return self.neighbors\n",
    "    \n",
    "    def getWeights(self):\n",
    "        return self.weights\n",
    "    \n",
    "    # Add a neighbor with corresponding weight to the vertex\n",
    "    def _addNeighbor(self, neighbor_index, weight):\n",
    "        self.neighbors.append(neighbor_index)\n",
    "        self.weights.append(weight)\n",
    "\n",
    "\n",
    "# Graph data structure\n",
    "class Graph:\n",
    "    # Initializes a graph with n_vertices nodes\n",
    "    # The graph contains a list of vertices\n",
    "    def __init__(self, n_vertices):\n",
    "        self.vertices = [None] * (n_vertices+1)\n",
    "        self.num_vertices = len(self.vertices)\n",
    "    \n",
    "    # Returns the i'th node\n",
    "    def getVertex(self, i):\n",
    "        if ((i > len(self.vertices)) | (i <= 0)):\n",
    "            raise ValueError(f'index {i} is out of bounds')\n",
    "        else:\n",
    "            return self.vertices[i]\n",
    "    \n",
    "    # Adds a new vertex to the graph\n",
    "    def _addVertex(self, vertex_index, neighor_index, distance):\n",
    "        if (self.vertices[vertex_index] == None):\n",
    "            # Construct new vertex\n",
    "            self.vertices[vertex_index] = Vertex(vertex_index, neighor_index, distance)\n",
    "        else:\n",
    "            # Vertex already in graph but other neighbor, add extra edge\n",
    "            self.vertices[vertex_index]._addNeighbor(neighor_index, distance)\n"
   ]
  },
  {
   "cell_type": "code",
   "execution_count": 5,
   "metadata": {
    "colab": {},
    "colab_type": "code",
    "id": "NLfr2jKb1BG0"
   },
   "outputs": [],
   "source": [
    "import fileinput\n",
    "\n",
    "# Read graph data\n",
    "def readGraph(filePath):\n",
    "    n_vertices = 0\n",
    "    for line in fileinput.input([filePath]):\n",
    "        words = line.split(\" \")\n",
    "        if (words[0] == \"p\"):\n",
    "            n_vertices = int(words[2])\n",
    "    graph = Graph(n_vertices)\n",
    "    for line in fileinput.input([filePath]):\n",
    "        words = line.split(\" \")\n",
    "        if (words[0] == \"a\"):\n",
    "            graph._addVertex(int(words[1]), int(words[2]), float(words[3]))\n",
    "    return graph\n",
    "\n",
    "\n",
    "# Read coordinates data\n",
    "def readCoordinates(filepath):\n",
    "    # Start to count from 1\n",
    "    coordinates = [None]\n",
    "    for line in fileinput.input([filepath]):\n",
    "        words = line.split(\" \")\n",
    "        if (words[0] == \"v\"):\n",
    "            coordinates.append([float(words[2]), float(words[3])])\n",
    "    return coordinates\n"
   ]
  },
  {
   "cell_type": "markdown",
   "metadata": {
    "colab_type": "text",
    "id": "gP6t2Queo3XF"
   },
   "source": [
    "### Usefull functions"
   ]
  },
  {
   "cell_type": "code",
   "execution_count": 6,
   "metadata": {
    "colab": {},
    "colab_type": "code",
    "id": "KzkGZ4vRpEQh"
   },
   "outputs": [],
   "source": [
    "import numpy as np\n",
    "    \n",
    "# Priority queue definition\n",
    "class PriorityQueue(dict):\n",
    "    def put(self, item, value):\n",
    "        # Watch out that value is not overwritten with higher value, shouldn't be allowed to happen!\n",
    "        if item in self :\n",
    "            value = min( value, self[item])\n",
    "        self[item] = value\n",
    "    def pop(self):\n",
    "        \"\"\"\n",
    "        Returns the item with the lowest weight\n",
    "        \"\"\"\n",
    "        item_min = min(self, key=self.get)\n",
    "        super().pop(item_min)\n",
    "        return item_min\n",
    "\n",
    "    \n",
    "def angles2centimeters(lo, la):\n",
    "    \"\"\"\n",
    "    Convert longitude and latitude to local orthogonal grid\n",
    "    :param lo: longitude\n",
    "    :param la: latitude\n",
    "    :return: height and width coordinates in cm's\n",
    "    \"\"\"\n",
    "    \n",
    "    radius = 6300 * 1e4  # cm\n",
    "    la_mean = 40794234.  # 1e-6 degree\n",
    "    lo_mean = -74016939.  # 1e-6 degree\n",
    "    \n",
    "    w = radius * np.cos(np.radians(la / 1e6)) * np.radians((lo - lo_mean) / 1e6)\n",
    "    h = radius * np.radians((la - la_mean) / 1e6)\n",
    "    \n",
    "    return w, h "
   ]
  },
  {
   "cell_type": "markdown",
   "metadata": {
    "colab_type": "text",
    "id": "A-9Y6SPNohI9"
   },
   "source": [
    "# Assignment"
   ]
  },
  {
   "cell_type": "markdown",
   "metadata": {},
   "source": [
    "## Code skeletons\n",
    "\n",
    "Feel free to move the following code to the relevant questions. \n",
    "\n",
    "Before submitting your code, make sure to execute all code fields sequentially. Notebooks that don't execute sequentially will be penalised."
   ]
  },
  {
   "cell_type": "markdown",
   "metadata": {},
   "source": [
    "## Answers\n",
    "\n",
    "Answer the questions from the assignment and add appropriate code where relevant to the question."
   ]
  },
  {
   "cell_type": "code",
   "execution_count": 7,
   "metadata": {},
   "outputs": [
    {
     "name": "stdout",
     "output_type": "stream",
     "text": [
      "The number of vertices is 264347\n",
      "The number of edges is 733846\n"
     ]
    }
   ],
   "source": [
    "# Question 1\n",
    "graph = readGraph(\"USA-road-d.NY.gr.txt\")\n",
    "vertices_nr = graph.num_vertices\n",
    "\n",
    "edges_nr = 0\n",
    "for i in range(1, vertices_nr):\n",
    "    edges_nr += len(graph.getVertex(i).getNeighbors())\n",
    "\n",
    "print(\"The number of vertices is {}\".format(vertices_nr))\n",
    "print(\"The number of edges is {}\".format(edges_nr))"
   ]
  },
  {
   "cell_type": "code",
   "execution_count": 8,
   "metadata": {},
   "outputs": [
    {
     "name": "stdout",
     "output_type": "stream",
     "text": [
      "A* algorithm finds the cheapest path from a start node to the goal by keeping track of the current cheapest path from start node to node n in g(n) and searching for the best path from current node n to goal using a heuristic function h(n), e.g Euclidean distance. Adding up g(n) and h(n) results in the estimated cost of the cheapest path through node n, marked by f(n). The heuristic function should be consistent and admissible, consistent meaning that its estimate to the goal from the current node is always less than or equal to the estimate from any neighbouring node to the goal PLUS the cost of reaching that neighbor from the current node. Admissible means that the heuristic function never overestimates the actual cost of reaching the goal. \n",
      "\n",
      "The choice of a heuristic function is vital - if h(n) =  0, the algorithm behaves as a Dijkstra's algorithm, which always finds the shortest path. If h(n) is admissible (lower than the actual cost of reaching the goal from n), it always finds the shortest path, but might make the algorithm slower. If h(n) is perfect (estimates the cost of reaching the goal from n exactly), the algorithm becomes very fast. If h(n) is not admissible (overestimates the cost sometimes), it might not find the shortest path, but is quicker.\n"
     ]
    }
   ],
   "source": [
    "# Question 2\n",
    "print(\"A* algorithm finds the cheapest path from a start node to the goal by keeping track of the current cheapest path from start node to node n in g(n) and searching for the best path from current node n to goal using a heuristic function h(n), e.g Euclidean distance. Adding up g(n) and h(n) results in the estimated cost of the cheapest path through node n, marked by f(n). The heuristic function should be consistent and admissible, consistent meaning that its estimate to the goal from the current node is always less than or equal to the estimate from any neighbouring node to the goal PLUS the cost of reaching that neighbor from the current node. Admissible means that the heuristic function never overestimates the actual cost of reaching the goal. \\n\")\n",
    "print(\"The choice of a heuristic function is vital - if h(n) =  0, the algorithm behaves as a Dijkstra's algorithm, which always finds the shortest path. If h(n) is admissible (lower than the actual cost of reaching the goal from n), it always finds the shortest path, but might make the algorithm slower. If h(n) is perfect (estimates the cost of reaching the goal from n exactly), the algorithm becomes very fast. If h(n) is not admissible (overestimates the cost sometimes), it might not find the shortest path, but is quicker.\")"
   ]
  },
  {
   "cell_type": "code",
   "execution_count": 74,
   "metadata": {},
   "outputs": [],
   "source": [
    "# Question 3\n",
    "import math \n",
    "\n",
    "# The graph and coordinates data\n",
    "# TODO: implement\n",
    "graph = readGraph('USA-road-t.NY.gr.txt')\n",
    "co = readCoordinates('USA-road-d.NY.co.txt')\n",
    "\n",
    "\n",
    "# Heuristic function\n",
    "def h(node1, node2):\n",
    "    \"\"\"\n",
    "    Heuristic function 1\n",
    "    \"\"\"\n",
    "    co1 = co[node1]\n",
    "    co2 = co[node2]\n",
    "    \n",
    "    w1, l1 = angles2centimeters(co1[0], co1[1])\n",
    "    w2, l2 = angles2centimeters(co2[0], co2[1])\n",
    "    \n",
    "    EuclidDistSq = pow( w1 - w2, 2 ) + pow( l1 - l2, 2 )\n",
    "    return math.sqrt( EuclidDistSq )\n",
    "\n",
    "\n",
    "def printPath( cameFrom, start, goal ) :\n",
    "    node = goal\n",
    "    path = [goal]\n",
    "    cost = 0\n",
    "    while not (node == start) :\n",
    "        previous = cameFrom[node]\n",
    "        weights_prev = graph.getVertex(previous).getWeights()\n",
    "        index =  graph.getVertex(previous).getNeighbors().index(node)\n",
    "        cost += weights_prev[index]\n",
    "        node = previous\n",
    "        path.append(node)\n",
    "    path.reverse()\n",
    "    print(path)\n",
    "    return (path, cost)\n",
    "\n",
    "\n",
    "# Algorithm\n",
    "def a_star_search(graph, co, start, goal):\n",
    "    \"\"\"\n",
    "    A* algorithm\n",
    "    :param graph: Graph object\n",
    "    :param co: coordinates list\n",
    "    :param start: index of start node\n",
    "    :param goal: index of goal node\n",
    "    :return: The path of nodes and total length\n",
    "    \"\"\"\n",
    "    openSet = set([start]) # A set of nodes\n",
    "    closed = set([]) # A set of nodes\n",
    "\n",
    "    cameFrom = {} # A node-node key-value mapping\n",
    "\n",
    "    gScore = {} # A node-int key-value mapping\n",
    "    gScore[start] = 0\n",
    "\n",
    "    fScore = {} # A node-int key-value mapping\n",
    "    \"\"\" CHANGE HEURISTIC FUNCTION HERE \"\"\"\n",
    "    #fScore[start] = gScore[start] + h(start, goal)\n",
    "    timeA = time.time()\n",
    "    M = h_8_minimalWeight(graph)\n",
    "    pathlength = h_8_pathlengths('USA-road-t.NY.gr.txt', goal)\n",
    "    fScore[start] = gScore[start] + h_8(start, M, pathlength)\n",
    "    timeB = time.time()\n",
    "    print(round(timeB-timeA, 2))\n",
    "\n",
    "    nodeOrder = PriorityQueue()\n",
    "    nodeOrder.put(start, fScore.get(start))\n",
    "\n",
    "    while not len(openSet) == 0 :\n",
    "        currentNode = nodeOrder.pop()\n",
    "        if currentNode == goal :\n",
    "            return printPath(cameFrom, start, goal)\n",
    "\n",
    "        openSet.remove(currentNode)\n",
    "        closed.add(currentNode)\n",
    "        neighbours = graph.getVertex(currentNode).getNeighbors()\n",
    "\n",
    "        weights = graph.getVertex(currentNode).getWeights()\n",
    "        \n",
    "        for neighbour in neighbours :\n",
    "            \n",
    "            if neighbour in closed:\n",
    "                continue\n",
    "            tentative_g_score = gScore[currentNode] + weights[ neighbours.index(neighbour) ]\n",
    "            if neighbour not in openSet:\n",
    "                openSet.add(neighbour)\n",
    "            elif tentative_g_score >= gScore[neighbour]:\n",
    "                continue\n",
    "            cameFrom[neighbour] = currentNode\n",
    "            gScore[neighbour] = tentative_g_score\n",
    "            \"\"\" CHANGE HEURISTIC FUNCTION HERE \"\"\"\n",
    "            #fScore[neighbour] = gScore[neighbour] + h(neighbour, goal)\n",
    "            fScore[neighbour] = gScore[neighbour] + h_8(neighbour, M, pathlength)\n",
    "            nodeOrder.put(neighbour, fScore[neighbour])\n",
    "            \n",
    "            # consistency check #\n",
    "            \"\"\" CHANGE HEURISTIC FUNCTION HERE x2 \"\"\"\n",
    "            #if not h(currentNode, goal) <= (weights[ neighbours.index(neighbour) ] + h(neighbour, goal)):\n",
    "            if not h_8(currentNode, M, pathlength) <= (weights[ neighbours.index(neighbour) ] + h_8(neighbour, M, pathlength)):\n",
    "                print(\"Heuristics not consistent, estimate from \" + str(currentNode) + \" is bigger than from \" + str(neighbour))\n",
    "            \n",
    "    return [], 0"
   ]
  },
  {
   "cell_type": "code",
   "execution_count": 10,
   "metadata": {},
   "outputs": [
    {
     "name": "stdout",
     "output_type": "stream",
     "text": [
      "A* function with Euclidean distance heuristics does return the shortest distance path.\n",
      "An interesting thing we found with implementing a consistency check is that there are some nodes (e.g try the algorithm with group nr 44) for which the heuristic function is not consistent, but the algorithm does not include these nodes in the final path.\n"
     ]
    }
   ],
   "source": [
    "# Question 3\n",
    "print(\"A* function with Euclidean distance heuristics does return the shortest distance path.\")\n",
    "print(\"An interesting thing we found with implementing a consistency check is that there are some nodes (e.g try the algorithm with group nr 44) for which the heuristic function is not consistent, but the algorithm does not include these nodes in the final path.\")"
   ]
  },
  {
   "cell_type": "code",
   "execution_count": 54,
   "metadata": {},
   "outputs": [
    {
     "name": "stdout",
     "output_type": "stream",
     "text": [
      "A* search with an heuristic function of h(n)=0 is optimal, as the heuristic function is consistent, because the estimate to the goal from any node is always 0, which in itself is less than the cost of reaching any following node. \n",
      "The running time of the algorithm is long, so the algorithm with no heuristics is not time- or space-efficient.\n"
     ]
    }
   ],
   "source": [
    "# Question 4\n",
    "def h4(node1, node2):\n",
    "    return 0\n",
    "print(\"A* search with an heuristic function of h(n)=0 is optimal, as the heuristic function is consistent, because the estimate to the goal from any node is always 0, which in itself is less than the cost of reaching any following node. \\nThe running time of the algorithm is long, so the algorithm with no heuristics is not time- or space-efficient.\")"
   ]
  },
  {
   "cell_type": "code",
   "execution_count": 65,
   "metadata": {},
   "outputs": [
    {
     "name": "stdout",
     "output_type": "stream",
     "text": [
      "Algorithm with Manhattan distance is not optimal, as the heuristic estimate is bigger from some nodes than the cost of reaching a certain following node plus the estimate to the goal from there (see consistency check when running the algorithm).\n",
      "Algorithm with Euclidan heuristics returns the shortest distance path, but runs longer than the algorithm with Manhattan heuristics. Algorithm with Manhattan heuristics does not return the shortest distance path, but the running time in this case is very short.\n"
     ]
    }
   ],
   "source": [
    "# Question 5\n",
    "def h5(node1, node2):\n",
    "    \"\"\"\n",
    "    Heuristic function 3\n",
    "    \"\"\"\n",
    "    co1 = co[node1]\n",
    "    co2 = co[node2]\n",
    "    \n",
    "    w1, l1 = angles2centimeters(co1[0], co1[1])\n",
    "    w2, l2 = angles2centimeters(co2[0], co2[1])\n",
    "    \n",
    "    ManhattanDist = abs(w1-w2) +  abs(l1-l2)\n",
    "    return ManhattanDist\n",
    "print(\"Algorithm with Manhattan distance is not optimal, as the heuristic estimate is bigger from some nodes than the cost of reaching a certain following node plus the estimate to the goal from there (see consistency check when running the algorithm).\\nAlgorithm with Euclidan heuristics returns the shortest distance path, but runs longer than the algorithm with Manhattan heuristics. Algorithm with Manhattan heuristics does not return the shortest distance path, but the running time in this case is very short.\")"
   ]
  },
  {
   "cell_type": "code",
   "execution_count": 13,
   "metadata": {},
   "outputs": [
    {
     "name": "stdout",
     "output_type": "stream",
     "text": [
      "Consider the Euclidean heuristic, but round down the final result. It is easy to verify that this is still an admissible heuristic, as it only further underestimates the final cost, already underestimated by the Euclidean heuristic. It is also non-consistent, as the heuristic is no longer consistent. This due to the fact that two neighbouring nodes can now have the some value for the heuristic, while the cost of travelling between them is non-zero.\n"
     ]
    }
   ],
   "source": [
    "# Queston 6\n",
    "def h6(node1, node2):\n",
    "    return math.floor(h(node1, node2))\n",
    "\n",
    "    '''\n",
    "    co1 = co[node1]\n",
    "    co2 = co[node2]\n",
    "    \n",
    "    w1, l1 = angles2centimeters(co1[0], co1[1])\n",
    "    w2, l2 = angles2centimeters(co2[0], co2[1])\n",
    "    \n",
    "    EuclidDistSq = pow( w1 - w2, 2 ) + pow( l1 - l2, 2 )\n",
    "    return math.floor(math.sqrt( EuclidDistSq ))\n",
    "    '''\n",
    "print(\"Consider the Euclidean heuristic, but round down the final result. It is easy to verify that this is still an admissible heuristic, as it only further underestimates the final cost, already underestimated by the Euclidean heuristic. It is also non-consistent, as the heuristic is no longer consistent. This due to the fact that two neighbouring nodes can now have the some value for the heuristic, while the cost of travelling between them is non-zero.\")"
   ]
  },
  {
   "cell_type": "code",
   "execution_count": 14,
   "metadata": {},
   "outputs": [
    {
     "name": "stdout",
     "output_type": "stream",
     "text": [
      "When used without taking the now-changed weigths of the edges into account, the Euclidean and Manhatten heuristic are no longer guaranteed to be admissible. As a result, the optimality of the solution is no longer guaranteed.\n"
     ]
    }
   ],
   "source": [
    "# Question 7\n",
    "## graph = readGraph('USA-road-t.NY.gr.txt')\n",
    "## co = readCoordinates('USA-road-d.NY.co.txt')\n",
    "# TODO complete below\n",
    "print(\"When used without taking the now-changed weigths of the edges into account, the Euclidean and Manhatten heuristic are no longer guaranteed to be admissible. As a result, the optimality of the solution is no longer guaranteed. \\nAs can be seen below, the results from the Manhatten distance are considerably worse than A* without heuristic. The Euclidean heuristic arrives at the correct result, but takes longer than without heuristic.\")\n",
    "print(\"Euclidean: cost of path: 957578.0, length of path: 632, time elapsed: 7.35\")\n",
    "print(\"Manhatten: cost of path: 982458.0, length of path: 667, time elapsed: 3.05\")\n",
    "print(\"No heuristic: cost of path: 957578.0, length of path: 632, time elapsed: 6.28\")\n"
   ]
  },
  {
   "cell_type": "code",
   "execution_count": 41,
   "metadata": {},
   "outputs": [],
   "source": [
    "# Question 8\n",
    "## IDEA: A heuristic is -- or can be -- a solution to a simplified version of the original problem.\n",
    "## Consider the same shortest-path problem, but with all edges with weight 1.\n",
    "\n",
    "## The heuristic is:\n",
    "##      - In the original problem, consider the minimal cost of an edge, say M.\n",
    "##      - Say n is the length (in edges) of the shortest path start-->goal and i is the shortest path start-->node to a given node\n",
    "##      - The remaining distance in edges from a given node to goal is at least (n-i).\n",
    "##      - The shortest possible distance from the given node to the goal is then given by M*(n-i).\n",
    "\n",
    "# Determine the minimal edge weight\n",
    "def h_8_minimalWeight(graph) :\n",
    "    minWeight = float('inf')\n",
    "    vertices = [i for i in graph.vertices if i ]\n",
    "    for vertex in vertices :\n",
    "        for weight in vertex.getWeights() :\n",
    "            minWeight = min(weight, minWeight)\n",
    "    return minWeight\n",
    "\n",
    "## Approach: reverse all edges of graph and label all nodes based on distance in edges to the goal.\n",
    "#-- Read graph data, inverted --#\n",
    "def readGraph_Inverted(filePath):\n",
    "    n_vertices = 0\n",
    "    for line in fileinput.input([filePath]):\n",
    "        words = line.split(\" \")\n",
    "        if (words[0] == \"p\"):\n",
    "            n_vertices = int(words[2])\n",
    "    graph = Graph(n_vertices)\n",
    "    for line in fileinput.input([filePath]):\n",
    "        words = line.split(\" \")\n",
    "        if (words[0] == \"a\"):\n",
    "            graph._addVertex(int(words[2]), int(words[1]), float(words[3]))\n",
    "    return graph\n",
    "\n",
    "# Determine the path length (in edges) from a given node to the goal\n",
    "def h_8_pathlengths(filePath, goal) :\n",
    "    graph_inv = readGraph(filePath)\n",
    "\n",
    "    pathlength = [float('inf')]*graph_inv.num_vertices #  list with pathlength i from node to goal\n",
    "    pathlength[goal] = 0\n",
    "\n",
    "    openSet = set([goal]) # A set of nodes\n",
    "    closed = set([]) # A set of nodes\n",
    "    \n",
    "    nodeOrder = PriorityQueue()\n",
    "    nodeOrder.put(goal, 0)\n",
    "\n",
    "    while not len(openSet) == 0 :\n",
    "        currentNode = nodeOrder.pop()\n",
    "        \n",
    "        openSet.remove(currentNode)\n",
    "        closed.add(currentNode)\n",
    "\n",
    "        neighbours = graph_inv.getVertex(currentNode).getNeighbors()        \n",
    "        for neighbour in neighbours :\n",
    "            \n",
    "            if pathlength[neighbour] > pathlength[currentNode] + 1 :\n",
    "                pathlength[neighbour] = pathlength[currentNode] + 1\n",
    "\n",
    "                openSet.add(neighbour)\n",
    "                nodeOrder.put(neighbour, 0)\n",
    "    \n",
    "    return pathlength\n",
    "\n",
    "def h_8(node, M, pathlength):\n",
    "    \"\"\"\n",
    "    Heuristic function\n",
    "    \"\"\"\n",
    "    i = pathlength[node]\n",
    "    return i*M\n"
   ]
  },
  {
   "cell_type": "code",
   "execution_count": 73,
   "metadata": {},
   "outputs": [
    {
     "name": "stdout",
     "output_type": "stream",
     "text": [
      "Custom heuristic: cost of path: 957578.0, length of path: 632, time elapsed: 12.32\n",
      "The results of this heuristic (for this random seed) match those of A* algorithm without heuristic, which we take as an indication that it is a sound heuristic. It does, however, take up a considerable amount of time. \n",
      "Although very little effort has been put into optimisation of the heuristic, deeper analysis shows that 5.93 of the 12.32 seconds was needed for the preprocessing of the heuristic, meaning the preparation time far outweighs the gained time in this case.\n"
     ]
    }
   ],
   "source": [
    "# Question 8\n",
    "print(\"Custom heuristic: cost of path: 957578.0, length of path: 632, time elapsed: 12.32\")\n",
    "print(\"The results of this heuristic (for this random seed) match those of A* algorithm without heuristic, which we take as an indication that it is a sound heuristic. It does, however, take up a considerable amount of time. \\nAlthough very little effort has been put into optimisation of the heuristic, deeper analysis shows that 5.93 of the 12.32 seconds was needed for the preprocessing of the heuristic, meaning the preparation time far outweighs the gained time in this case.\")"
   ]
  },
  {
   "cell_type": "code",
   "execution_count": 75,
   "metadata": {},
   "outputs": [
    {
     "name": "stdout",
     "output_type": "stream",
     "text": [
      "start : 214191\n",
      "goal : 61162\n",
      "2.0\n",
      "5.95\n",
      "[214191, 214190, 214189, 214188, 214180, 214178, 214177, 214141, 214140, 214137, 214131, 214130, 214128, 214127, 213988, 213990, 213984, 213975, 213974, 213972, 213971, 213916, 213915, 213944, 213912, 213911, 213910, 213908, 213907, 213888, 213881, 213880, 213877, 213876, 205559, 205558, 209895, 202260, 198935, 198934, 209891, 209890, 205428, 205427, 209869, 209754, 209753, 209744, 209735, 209734, 209733, 209730, 209698, 201617, 201616, 209708, 209685, 209061, 201568, 201567, 209029, 209024, 208999, 208998, 209012, 208911, 208913, 208912, 214358, 208905, 208901, 208860, 208858, 208850, 208851, 208849, 206493, 206420, 206419, 206438, 206494, 206441, 206426, 206235, 206227, 206204, 214329, 205549, 214886, 205551, 205480, 205471, 205470, 205306, 205238, 214410, 214409, 203055, 203051, 214820, 214817, 203017, 203015, 214842, 214960, 203080, 203079, 204544, 202988, 202986, 202989, 202981, 202977, 202976, 202971, 202935, 202925, 202456, 202473, 214312, 214313, 202464, 202465, 214310, 202403, 214311, 202386, 202385, 202384, 202199, 202198, 202188, 202187, 202184, 214318, 202178, 202177, 197095, 197094, 214829, 214828, 214885, 197086, 197081, 196555, 196554, 196536, 196530, 196529, 214366, 215134, 215133, 214617, 196260, 196224, 196223, 196228, 196174, 196173, 195400, 195392, 195390, 195383, 195301, 195302, 194735, 194736, 195264, 195261, 195262, 214809, 195119, 195118, 195112, 195111, 214454, 195085, 214808, 195089, 195029, 195031, 195032, 195035, 195309, 196656, 144201, 144193, 144183, 144180, 141273, 141282, 141278, 141269, 141263, 141236, 141235, 141224, 151879, 141207, 141206, 140989, 140990, 140986, 140980, 140961, 141026, 141027, 141023, 139798, 139797, 141013, 141055, 141043, 141044, 141045, 141047, 140767, 141049, 140772, 140774, 140779, 141705, 141706, 141715, 141721, 141751, 141749, 141686, 141685, 141684, 141682, 141669, 141668, 141667, 141526, 141525, 141524, 151826, 151825, 141515, 151601, 151285, 145412, 141470, 151607, 151606, 141467, 141459, 141456, 140091, 140085, 140053, 140051, 151766, 140046, 140036, 139968, 139962, 139972, 139971, 139937, 139933, 139932, 139945, 139944, 139817, 139818, 139823, 139824, 139825, 139836, 139833, 139834, 143901, 143900, 150584, 151602, 143290, 139859, 151723, 150675, 150400, 151724, 151725, 151726, 151727, 151728, 145284, 145285, 150654, 147000, 151770, 151887, 150730, 150647, 146929, 150732, 150733, 150736, 150743, 150745, 143650, 143649, 143860, 151817, 143909, 140309, 140310, 140320, 140323, 151777, 140331, 151773, 140333, 140335, 150812, 150806, 150804, 151981, 146968, 150762, 150764, 150771, 146970, 146972, 146974, 146975, 150769, 150564, 150574, 150577, 146979, 146981, 148988, 144196, 144198, 144200, 145154, 151613, 151010, 151592, 151813, 151645, 151646, 151647, 151648, 151649, 151650, 151651, 151652, 151653, 143890, 151008, 150948, 150944, 151085, 151089, 151100, 151103, 150909, 151113, 140305, 140306, 140307, 151086, 140324, 140325, 151202, 140375, 140328, 140329, 147221, 140373, 140374, 147170, 147158, 147159, 147155, 147156, 147197, 147198, 151952, 151957, 147196, 147193, 147076, 147077, 147078, 217680, 217681, 224225, 224205, 217669, 217655, 217402, 217588, 217558, 217400, 217341, 217309, 217306, 215952, 215894, 215891, 215774, 215775, 215773, 215578, 215579, 224149, 224150, 215392, 215393, 222033, 215389, 215335, 215336, 215320, 215323, 222201, 222176, 222132, 222133, 222151, 224406, 218916, 218867, 218868, 218871, 218661, 218660, 219053, 218657, 218658, 218632, 218034, 218035, 218515, 218369, 218370, 218334, 218319, 218316, 218315, 218280, 218286, 218285, 218281, 222635, 222636, 222630, 222628, 222617, 222610, 132285, 132280, 132197, 132196, 132182, 132180, 132181, 132172, 132173, 132174, 132188, 132189, 132190, 132102, 121647, 121648, 121650, 121652, 121661, 70242, 70243, 70248, 70249, 70244, 70245, 70246, 70247, 70255, 70257, 70258, 69999, 70000, 70001, 70011, 70012, 70081, 70082, 58016, 58017, 70103, 69825, 69826, 69796, 69800, 69801, 69790, 72496, 72340, 72341, 72323, 72311, 72041, 72042, 72044, 76639, 71855, 71838, 71634, 71630, 71629, 71624, 71625, 71682, 71639, 71643, 71641, 71491, 71488, 71490, 71496, 71497, 71495, 71454, 71262, 71263, 78175, 76634, 71231, 71229, 71230, 76479, 71219, 71070, 71071, 71068, 71064, 71063, 71061, 71058, 71269, 71294, 70816, 70815, 70802, 64794, 64790, 64792, 64791, 64789, 64740, 64727, 64726, 64729, 64728, 64677, 64685, 64680, 64679, 63469, 63468, 63471, 63478, 63474, 63444, 63440, 63434, 63433, 63431, 63428, 63429, 63288, 63285, 63284, 63266, 63268, 63264, 63258, 63259, 63255, 63194, 63192, 63185, 63186, 63184, 63167, 63165, 63149, 63159, 63161, 62887, 62889, 62880, 62881, 62871, 62862, 62868, 62824, 62817, 63669, 63586, 63584, 63582, 63579, 63580, 63536, 63535, 63534, 63533, 63532, 63512, 63515, 63513, 61787, 61784, 61781, 61779, 61778, 61763, 56875, 56876, 61761, 61704, 61178, 61166, 61164, 61165, 61163, 61162]\n",
      "cost of path: 957578.0\n",
      "length of path: 632\n",
      "time elapsed: 12.46\n"
     ]
    }
   ],
   "source": [
    "# Calculate the path between your start and goal node. \n",
    "# Did you get the shortest-distance path? You can \n",
    "# verify your results in the distances.txt file.\n",
    "\n",
    "import random\n",
    "import time\n",
    "\n",
    "group_number = 44 # TODO: change to your group number\n",
    "num_vertices = graph.num_vertices  # TODO: number of vertices in the graph\n",
    "\n",
    "random.seed(group_number)\n",
    "\n",
    "start = random.randint(1, num_vertices + 1)\n",
    "goal = random.randint(1, num_vertices + 1)\n",
    "\n",
    "# Calculating the path between nodes\n",
    "print( 'start : ' +  str(start) )\n",
    "print( 'goal : ' + str(goal) )\n",
    "\n",
    "time0 = time.time()\n",
    "path, path_cost = a_star_search(graph, co, start, goal)\n",
    "time1 = time.time()\n",
    "\n",
    "print('cost of path: ' + str(path_cost))\n",
    "path_length = len(path)\n",
    "print('length of path: ' + str(path_length))\n",
    "print(\"time elapsed: \" + str(round(time1-time0, 2)))"
   ]
  }
 ],
 "metadata": {
  "colab": {
   "collapsed_sections": [],
   "name": "a_star_student.ipynb",
   "provenance": [],
   "toc_visible": true
  },
  "interpreter": {
   "hash": "87954a8c3d1df39e782159dbf2add6282b709f49ed5d77c1f3f83eb69e4d4adf"
  },
  "kernelspec": {
   "display_name": "Python 3",
   "language": "python",
   "name": "python3"
  },
  "language_info": {
   "codemirror_mode": {
    "name": "ipython",
    "version": 3
   },
   "file_extension": ".py",
   "mimetype": "text/x-python",
   "name": "python",
   "nbconvert_exporter": "python",
   "pygments_lexer": "ipython3",
   "version": "3.10.0"
  }
 },
 "nbformat": 4,
 "nbformat_minor": 1
}
