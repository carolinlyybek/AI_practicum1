{
 "cells": [
  {
   "cell_type": "markdown",
   "metadata": {
    "colab_type": "text",
    "id": "5p8wNfqaoPWp"
   },
   "source": [
    "# Provided code\n",
    "\n",
    "You shouldn't need to change anything in this section."
   ]
  },
  {
   "cell_type": "markdown",
   "metadata": {
    "colab_type": "text",
    "id": "4KkORWl2F6M9"
   },
   "source": [
    "### Load data to Colab"
   ]
  },
  {
   "cell_type": "code",
   "execution_count": 1,
   "metadata": {
    "colab": {
     "base_uri": "https://localhost:8080/",
     "height": 72
    },
    "colab_type": "code",
    "id": "kSqty85NFq-E",
    "outputId": "f676ecf1-4364-4606-f061-d2f0f62b714d"
   },
   "outputs": [
    {
     "name": "stdout",
     "output_type": "stream",
     "text": [
      "USA-road-d.NY.gr.txt\n",
      "USA-road-t.NY.gr.txt\n",
      "USA-road-d.NY.co.txt\n"
     ]
    }
   ],
   "source": [
    "if False:  # manual loading\n",
    "    from google.colab import file\n",
    "    uploaded = files.upload()  # then browse, select the files\n",
    "    \n",
    "else:  # automatic loading\n",
    "    import requests\n",
    "    import gzip\n",
    "    \n",
    "    filepath_d_gr = 'http://users.diag.uniroma1.it/challenge9/data/USA-road-d/' + 'USA-road-d.NY.gr.gz'\n",
    "    filepath_t_gr = 'http://users.diag.uniroma1.it/challenge9/data/USA-road-t/' + 'USA-road-t.NY.gr.gz'\n",
    "    filepath_d_co = 'http://users.diag.uniroma1.it/challenge9/data/USA-road-d/' + 'USA-road-d.NY.co.gz'\n",
    "    \n",
    "    def loader(url):\n",
    "        name = url.rsplit('/', 1)[1].rsplit('.', 1)[0]\n",
    "        savename = name + '.txt'\n",
    "        \n",
    "        with open(savename, 'wb') as f_out:\n",
    "            with requests.get(url) as r:\n",
    "                f_in = gzip.decompress(r.content)\n",
    "                f_out.write(f_in)\n",
    "                \n",
    "        print(savename)\n",
    "            \n",
    "    loader(filepath_d_gr)\n",
    "    loader(filepath_t_gr)\n",
    "    loader(filepath_d_co)"
   ]
  },
  {
   "cell_type": "code",
   "execution_count": null,
   "metadata": {},
   "outputs": [],
   "source": []
  },
  {
   "cell_type": "markdown",
   "metadata": {
    "colab_type": "text",
    "id": "MgQyZNbXoW1m"
   },
   "source": [
    "### Graph and Vertex classes"
   ]
  },
  {
   "cell_type": "code",
   "execution_count": 2,
   "metadata": {
    "colab": {},
    "colab_type": "code",
    "id": "ywNJyeOdH0DE"
   },
   "outputs": [],
   "source": [
    "# Vertex implementation\n",
    "class Vertex:\n",
    "    # Initialization of a vertex, given a neighbor and the corresponding weight\n",
    "    # Each vertex contains a list of neighbors and corresponding weights\n",
    "    def __init__(self, i, neighbor_index, weight):\n",
    "        self.index = i\n",
    "        self.neighbors = [neighbor_index]\n",
    "        self.weights = [weight]\n",
    "        \n",
    "    def getNeighbors(self):\n",
    "        return self.neighbors\n",
    "    \n",
    "    def getWeights(self):\n",
    "        return self.weights\n",
    "    \n",
    "    # Add a neighbor with corresponding weight to the vertex\n",
    "    def _addNeighbor(self, neighbor_index, weight):\n",
    "        self.neighbors.append(neighbor_index)\n",
    "        self.weights.append(weight)\n",
    "\n",
    "\n",
    "# Graph data structure\n",
    "class Graph:\n",
    "    # Initializes a graph with n_vertices nodes\n",
    "    # The graph contains a list of vertices\n",
    "    def __init__(self, n_vertices):\n",
    "        self.vertices = [None] * (n_vertices+1)\n",
    "        self.num_vertices = len(self.vertices)\n",
    "    \n",
    "    # Returns the i'th node\n",
    "    def getVertex(self, i):\n",
    "        if ((i > len(self.vertices)) | (i <= 0)):\n",
    "            raise ValueError(f'index {i} is out of bounds')\n",
    "        else:\n",
    "            return self.vertices[i]\n",
    "    \n",
    "    # Adds a new vertex to the graph\n",
    "    def _addVertex(self, vertex_index, neighor_index, distance):\n",
    "        if (self.vertices[vertex_index] == None):\n",
    "            # Construct new vertex\n",
    "            self.vertices[vertex_index] = Vertex(vertex_index, neighor_index, distance)\n",
    "        else:\n",
    "            # Vertex already in graph but other neighbor, add extra edge\n",
    "            self.vertices[vertex_index]._addNeighbor(neighor_index, distance)\n"
   ]
  },
  {
   "cell_type": "code",
   "execution_count": 3,
   "metadata": {
    "colab": {},
    "colab_type": "code",
    "id": "NLfr2jKb1BG0"
   },
   "outputs": [],
   "source": [
    "import fileinput\n",
    "\n",
    "# Read graph data\n",
    "def readGraph(filePath):\n",
    "    n_vertices = 0\n",
    "    for line in fileinput.input([filePath]):\n",
    "        words = line.split(\" \")\n",
    "        if (words[0] == \"p\"):\n",
    "            n_vertices = int(words[2])\n",
    "    graph = Graph(n_vertices)\n",
    "    for line in fileinput.input([filePath]):\n",
    "        words = line.split(\" \")\n",
    "        if (words[0] == \"a\"):\n",
    "            graph._addVertex(int(words[1]), int(words[2]), float(words[3]))\n",
    "    return graph\n",
    "\n",
    "\n",
    "# Read coordinates data\n",
    "def readCoordinates(filepath):\n",
    "    # Start to count from 1\n",
    "    coordinates = [None]\n",
    "    for line in fileinput.input([filepath]):\n",
    "        words = line.split(\" \")\n",
    "        if (words[0] == \"v\"):\n",
    "            coordinates.append([float(words[2]), float(words[3])])\n",
    "    return coordinates\n"
   ]
  },
  {
   "cell_type": "markdown",
   "metadata": {
    "colab_type": "text",
    "id": "gP6t2Queo3XF"
   },
   "source": [
    "### Usefull functions"
   ]
  },
  {
   "cell_type": "code",
   "execution_count": 16,
   "metadata": {
    "colab": {},
    "colab_type": "code",
    "id": "KzkGZ4vRpEQh"
   },
   "outputs": [],
   "source": [
    "import numpy as np\n",
    "    \n",
    "# Priority queue definition\n",
    "class PriorityQueue(dict):\n",
    "    def put(self, item, value):\n",
    "        # Watch out that value is not overwritten with higher value, shouldn't be allowed to happen!\n",
    "        if item in self :\n",
    "            value = min( value, self[item])\n",
    "        self[item] = value\n",
    "    def pop(self):\n",
    "        \"\"\"\n",
    "        Returns the item with the lowest weight\n",
    "        \"\"\"\n",
    "        item_min = min(self, key=self.get)\n",
    "        super().pop(item_min)\n",
    "        return item_min\n",
    "\n",
    "    \n",
    "def angles2centimeters(lo, la):\n",
    "    \"\"\"\n",
    "    Convert longitude and latitude to local orthogonal grid\n",
    "    :param lo: longitude\n",
    "    :param la: latitude\n",
    "    :return: height and width coordinates in cm's\n",
    "    \"\"\"\n",
    "    \n",
    "    radius = 6300 * 1e4  # cm\n",
    "    la_mean = 40794234.  # 1e-6 degree\n",
    "    lo_mean = -74016939.  # 1e-6 degree\n",
    "    \n",
    "    w = radius * np.cos(np.radians(la / 1e6)) * np.radians((lo - lo_mean) / 1e6)\n",
    "    h = radius * np.radians((la - la_mean) / 1e6)\n",
    "    \n",
    "    return w, h "
   ]
  },
  {
   "cell_type": "markdown",
   "metadata": {
    "colab_type": "text",
    "id": "A-9Y6SPNohI9"
   },
   "source": [
    "# Assignment"
   ]
  },
  {
   "cell_type": "markdown",
   "metadata": {},
   "source": [
    "## Code skeletons\n",
    "\n",
    "Feel free to move the following code to the relevant questions. \n",
    "\n",
    "Before submitting your code, make sure to execute all code fields sequentially. Notebooks that don't execute sequentially will be penalised."
   ]
  },
  {
   "cell_type": "code",
   "execution_count": 10,
   "metadata": {
    "colab": {},
    "colab_type": "code",
    "id": "Wv4N_v5YOHN_"
   },
   "outputs": [],
   "source": [
    "import math \n",
    "\n",
    "# The graph and coordinates data\n",
    "# TODO: implement\n",
    "graph = readGraph('USA-road-d.NY.gr.txt')\n",
    "co = readCoordinates('USA-road-d.NY.co.txt')\n",
    "\n",
    "\n",
    "# Heuristic function\n",
    "def h(node1, node2):\n",
    "    \"\"\"\n",
    "    Heuristic function\n",
    "    \"\"\"\n",
    "    \n",
    "    i1 = node1\n",
    "    i2 = node2\n",
    "\n",
    "    co1 = co[i1]\n",
    "    co2 = co[i2]\n",
    "    if not len(co1) == len(co2) :\n",
    "        print( \"Coordinates are not of the same dimensions.\" )\n",
    "\n",
    "    EuclidDistSq = 0\n",
    "    for i in range(0, len(co1)) : \n",
    "        EuclidDistSq += pow( co1[i] - co2[i], 2 )\n",
    "    \n",
    "    return math.sqrt( EuclidDistSq )\n",
    "\n",
    "def printPath( cameFrom, start, goal ) :\n",
    "    node = goal\n",
    "    path = [goal]\n",
    "    cost = 0\n",
    "    while not (node == start) :\n",
    "        previous = cameFrom[node]\n",
    "        weights_prev = graph.getVertex(previous).getWeights()\n",
    "        index =  graph.getVertex(previous).getNeighbors().index(node)\n",
    "        cost += weights_prev[index]\n",
    "        node = previous\n",
    "        path.append(node)\n",
    "    path.reverse()\n",
    "    print(path)\n",
    "    return (path, cost)\n",
    "\n",
    "\n",
    "# Algorithm\n",
    "def a_star_search(graph, co, start, goal):\n",
    "    \"\"\"\n",
    "    A* algorithm\n",
    "    :param graph: Graph object\n",
    "    :param co: coordinates list\n",
    "    :param start: index of start node\n",
    "    :param goal: index of goal node\n",
    "    :return: The path of nodes and total length\n",
    "    \"\"\"\n",
    "    open = set([start]) # A set of nodes\n",
    "    closed = set([]) # A set of nodes\n",
    "\n",
    "    cameFrom = {} # A node-node key-value mapping\n",
    "\n",
    "    gScore = {} # A node-int key-value mapping\n",
    "    gScore[start] = 0\n",
    "\n",
    "    fScore = {} # A node-int key-value mapping\n",
    "    fScore[start] = gScore[start] + h(start, goal)\n",
    "\n",
    "    nodeOrder = PriorityQueue()\n",
    "    nodeOrder.put(start, fScore.get(start))\n",
    "\n",
    "    while not len(open) == 0 :\n",
    "        # node with lowest f value --> track with priority queue of nodes + key-value mapping (node-fScore)\n",
    "        currentNode = nodeOrder.pop()\n",
    "        #print( 'current node : ' +  str(currentNode))\n",
    "        if currentNode == goal :\n",
    "            #print( cameFrom )\n",
    "            return printPath(cameFrom, start, goal)\n",
    "\n",
    "        open.remove(currentNode)\n",
    "        closed.add(currentNode)\n",
    "        neighbours = graph.getVertex(currentNode).getNeighbors()\n",
    "        #print( 'neighbours : ' +  str(neighbours))\n",
    "\n",
    "        weights = graph.getVertex(currentNode).getWeights()\n",
    "        \n",
    "        for neighbour in neighbours :\n",
    "            if not neighbour in closed :\n",
    "                tentative_gScore = gScore[currentNode] + weights[ neighbours.index(neighbour) ]\n",
    "                #print( 'gScore ' + str(gScore[currentNode] ))\n",
    "                #print(' weight ' + str(weights[ neighbours.index(neighbour) ])) \n",
    "                \n",
    "                if ( neighbour not in gScore.keys() ) or ( tentative_gScore < gScore[neighbour] ) :\n",
    "                    #print('chenged')\n",
    "                    #print( 'node ' +  str(neighbour) + ' added to cameFrom')\n",
    "\n",
    "                    gScore[neighbour] = tentative_gScore\n",
    "                    fScore[neighbour] = gScore[neighbour] + h(neighbour, goal)\n",
    "                    cameFrom[neighbour] = currentNode \n",
    "                    if neighbour not in open :\n",
    "                        open.add(neighbour)\n",
    "                        nodeOrder.put(neighbour, fScore[neighbour])\n",
    "\n",
    "                \"\"\"\n",
    "                if neighbour not in open :\n",
    "                    open.add(neighbour)\n",
    "                    fScore[neighbour] = float('inf')\n",
    "                    gScore[neighbour] = float('inf')\n",
    "                else :\n",
    "                    print(' Hey, ' + str(gScore[neighbour]))\n",
    "                    if tentative_gScore < gScore[neighbour] :\n",
    "                        print('chenged')\n",
    "                        #print( 'node ' +  str(neighbour) + ' added to cameFrom')\n",
    "                        gScore[neighbour] = tentative_gScore\n",
    "                        fScore[neighbour] = gScore[neighbour] + h(neighbour, goal)\n",
    "                        cameFrom[neighbour] = currentNode \n",
    "                \"\"\"\n",
    "    return [], 0"
   ]
  },
  {
   "cell_type": "code",
   "execution_count": 18,
   "metadata": {},
   "outputs": [
    {
     "name": "stdout",
     "output_type": "stream",
     "text": [
      "start : 17084\n",
      "goal : 224862\n",
      "[17084, 17072, 17073, 17086, 17087, 17117, 17119, 17121, 17126, 17170, 17171, 17284, 17276, 17283, 17290, 17292, 17293, 17300, 17301, 17299, 17302, 17334, 17335, 17338, 17345, 17347, 17348, 17419, 17420, 17425, 17859, 17860, 17867, 17866, 17868, 17871, 17895, 34253, 18119, 17897, 17896, 18519, 18509, 18256, 18523, 18528, 18552, 18530, 18554, 18553, 18562, 18563, 18565, 18548, 18569, 18571, 18657, 18658, 18660, 18663, 18664, 18665, 18667, 18668, 18212, 18211, 18671, 18687, 18688, 18689, 18691, 18713, 18718, 18719, 18975, 18974, 18976, 18965, 18964, 18967, 18970, 18971, 25303, 25304, 25308, 25309, 25310, 25381, 25382, 25384, 25385, 25365, 25362, 25367, 25368, 25370, 25371, 25374, 25379, 25377, 25376, 21892, 21891, 26542, 26539, 26541, 26548, 26545, 26546, 26154, 26148, 26151, 26176, 26177, 26174, 26175, 26181, 26180, 26185, 19181, 11217, 26263, 26262, 26265, 26251, 26257, 26256, 26255, 26258, 26254, 26253, 26236, 26282, 26235, 26234, 26237, 26233, 26230, 26238, 26239, 26319, 26317, 26318, 26338, 26335, 26336, 26341, 29114, 29111, 29112, 29124, 29122, 29117, 29118, 29115, 29007, 29010, 29009, 29008, 40213, 40209, 40214, 41305, 41306, 41315, 41313, 41314, 41303, 41304, 41325, 41326, 41255, 41258, 41368, 41367, 41366, 41356, 41369, 41359, 41358, 41357, 41373, 40977, 40976, 40997, 40998, 40988, 40989, 40990, 40993, 40995, 41674, 41675, 41677, 41676, 48632, 48634, 48635, 48636, 48637, 48638, 48641, 48645, 48648, 48647, 48646, 48627, 48631, 48683, 48681, 48684, 48682, 48667, 48673, 48674, 48686, 48676, 48677, 48690, 48710, 48709, 48705, 48704, 48707, 48588, 48589, 48591, 48908, 48906, 48907, 48911, 48899, 48900, 48894, 48898, 48897, 48932, 48871, 48870, 48872, 48873, 48877, 48874, 48875, 48876, 48882, 48956, 48983, 48984, 48985, 48986, 48987, 49000, 49001, 49002, 49025, 49005, 49026, 49010, 49011, 49008, 49009, 49006, 48824, 48823, 49582, 48390, 48389, 48396, 48312, 48311, 48331, 48332, 48333, 48334, 48335, 131408, 131407, 131412, 131396, 131395, 131397, 131398, 131642, 131641, 131643, 131482, 131484, 131479, 131507, 131494, 131497, 131498, 131496, 131499, 131505, 131506, 131503, 131535, 131534, 131533, 131539, 131577, 131544, 131545, 131547, 131604, 131605, 131606, 131607, 131615, 131616, 131617, 131618, 131635, 132158, 132159, 132161, 132162, 132163, 132164, 132166, 132211, 132183, 132184, 132176, 132177, 132179, 132182, 132196, 132197, 132280, 132285, 222610, 222617, 221935, 222634, 218284, 218275, 224296, 218294, 218289, 218295, 218296, 218404, 218026, 218086, 218085, 218080, 218084, 218070, 218098, 218101, 218864, 218094, 218140, 218077, 218075, 218076, 218144, 218145, 218146, 224034, 218201, 224032, 218188, 218187, 218194, 218195, 218202, 218205, 218206, 222608, 217837, 222542, 224577, 224573, 224574, 224522, 224578, 224398, 218190, 218189, 220776, 220781, 220788, 220792, 220808, 220814, 220816, 220815, 220658, 220657, 220654, 220659, 220660, 220669, 220818, 220727, 220729, 220893, 220894, 220896, 220690, 220710, 220733, 218125, 224276, 220734, 220736, 220743, 220745, 224862]\n",
      "cost of path: 524627.0\n",
      "length of path: 413\n"
     ]
    }
   ],
   "source": [
    "# Calculate the path between your start and goal node. \n",
    "# Did you get the shortest-distance path? You can \n",
    "# verify your results in the distances.txt file.\n",
    "\n",
    "import random\n",
    "\n",
    "group_number = 10  # TODO: change to your group number\n",
    "num_vertices = graph.num_vertices  # TODO: number of vertices in the graph\n",
    "\n",
    "random.seed(group_number)\n",
    "\n",
    "start = random.randint(1, num_vertices + 1)\n",
    "goal = random.randint(1, num_vertices + 1)\n",
    "\n",
    "\n",
    "# Calculating the path between nodes\n",
    "print( 'start : ' +  str(start) )\n",
    "print( 'goal : ' + str(goal) )\n",
    "path, path_cost = a_star_search(graph, co, start, goal)\n",
    "print('cost of path: ' + str(path_cost))\n",
    "path_length = len(path)\n",
    "print('length of path: ' + str(path_length))"
   ]
  },
  {
   "cell_type": "markdown",
   "metadata": {},
   "source": [
    "## Answers\n",
    "\n",
    "Answer the questions from the assignment and add appropriate code where relevant to the question."
   ]
  },
  {
   "cell_type": "code",
   "execution_count": null,
   "metadata": {},
   "outputs": [],
   "source": [
    "# TODO"
   ]
  },
  {
   "cell_type": "code",
   "execution_count": null,
   "metadata": {},
   "outputs": [
    {
     "name": "stdout",
     "output_type": "stream",
     "text": [
      "264347\n",
      "The number of vertices is 264347\n",
      "The number of edges is 733846\n"
     ]
    }
   ],
   "source": [
    "# Question 1\n",
    "graph = readGraph(\"USA-road-d.NY.gr.txt\")\n",
    "vertices_nr = graph.num_vertices\n",
    "print(vertices_nr)\n",
    "\n",
    "edges_nr = 0\n",
    "for i in range(1, vertices_nr):\n",
    "    edges_nr += len(graph.getVertex(i).getNeighbors())\n",
    "\n",
    "print(\"The number of vertices is {}\".format(vertices_nr))\n",
    "print(\"The number of edges is {}\".format(edges_nr))"
   ]
  },
  {
   "cell_type": "code",
   "execution_count": null,
   "metadata": {},
   "outputs": [
    {
     "name": "stdout",
     "output_type": "stream",
     "text": [
      "A* algorithm finds the cheapest path from a start node to the goal by keeping track of the current cheapest path from start node to node n in g(n) and searching for the best path from current node n to goal using a heuristic function h(n), e.g Euclidean distance. Adding up g(n) and h(n) results in the estimated cost of the cheapest path through node n, marked by f(n). The heuristic function should be consistent and admissible, consistent meaning that its estimate to the goal is always less than the estimate from any neighbouring node to the goal, plus the cost of reaching that neighbor, and admissible meaning that the function never overestimates the actual cost of reaching the goal.\n"
     ]
    }
   ],
   "source": [
    "# Question 2\n",
    "print(\"A* algorithm finds the cheapest path from a start node to the goal by keeping track of the current cheapest path from start node to node n in g(n) and searching for the best path from current node n to goal using a heuristic function h(n), e.g Euclidean distance. Adding up g(n) and h(n) results in the estimated cost of the cheapest path through node n, marked by f(n). The heuristic function should be consistent and admissible, consistent meaning that its estimate to the goal is always less than the estimate from any neighbouring node to the goal, plus the cost of reaching that neighbor, and admissible meaning that the function never overestimates the actual cost of reaching the goal.\")"
   ]
  },
  {
   "cell_type": "code",
   "execution_count": null,
   "metadata": {},
   "outputs": [],
   "source": [
    "# Question 3\n",
    "#-- See above --#"
   ]
  },
  {
   "cell_type": "code",
   "execution_count": null,
   "metadata": {},
   "outputs": [],
   "source": [
    "# Question 4"
   ]
  },
  {
   "cell_type": "code",
   "execution_count": null,
   "metadata": {},
   "outputs": [],
   "source": [
    "# Question 5"
   ]
  },
  {
   "cell_type": "code",
   "execution_count": null,
   "metadata": {},
   "outputs": [],
   "source": [
    "# Queston 6"
   ]
  },
  {
   "cell_type": "code",
   "execution_count": null,
   "metadata": {},
   "outputs": [],
   "source": [
    "# Question 7\n",
    "graph = readGraph('USA-road-t.NY.gr.txt')\n",
    "co = readCoordinates('USA-road-d.NY.co.txt')"
   ]
  },
  {
   "cell_type": "code",
   "execution_count": null,
   "metadata": {},
   "outputs": [],
   "source": [
    "# Question 8\n",
    "## Best heuristic somehow takes into account the weights (i.e. times). For example: Give weight to every node == sum of all it's (outgoing) arcs. use this weights a an additional weight in combination with euclidian heuristic.\n",
    "def h_8(node1, node2):\n",
    "    \"\"\"\n",
    "    Heuristic function\n",
    "    \"\"\"\n",
    "    \n",
    "    i1 = node1\n",
    "    i2 = node2\n",
    "\n",
    "    co1 = co[i1]\n",
    "    co2 = co[i2]\n",
    "\n",
    "    weight1 = graph.getVertex(i1).getWeigths()\n",
    "    weight2 = graph.getVertex(i2).getWeigths()\n",
    "    weight = (weight1 + weight2) /2\n",
    "    if not len(co1) == len(co2) :\n",
    "        print( \"Coordinates are not of the same dimensions.\" )\n",
    "\n",
    "    EuclidDistSq = 0\n",
    "    for i in range(0, len(co1)) : \n",
    "        WeightedEuclidDistSq += weight*(pow( co1[i] - co2[i], 2 ))\n",
    "    \n",
    "    return math.sqrt( WeightedEuclidDistSq )\n"
   ]
  }
 ],
 "metadata": {
  "colab": {
   "collapsed_sections": [],
   "name": "a_star_student.ipynb",
   "provenance": [],
   "toc_visible": true
  },
  "interpreter": {
   "hash": "87954a8c3d1df39e782159dbf2add6282b709f49ed5d77c1f3f83eb69e4d4adf"
  },
  "kernelspec": {
   "display_name": "Python 3.10.0 64-bit",
   "name": "python3"
  },
  "language_info": {
   "codemirror_mode": {
    "name": "ipython",
    "version": 3
   },
   "file_extension": ".py",
   "mimetype": "text/x-python",
   "name": "python",
   "nbconvert_exporter": "python",
   "pygments_lexer": "ipython3",
   "version": "3.10.0"
  }
 },
 "nbformat": 4,
 "nbformat_minor": 1
}
