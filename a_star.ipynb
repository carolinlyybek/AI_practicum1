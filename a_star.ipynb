{
 "cells": [
  {
   "cell_type": "markdown",
   "metadata": {
    "colab_type": "text",
    "id": "5p8wNfqaoPWp"
   },
   "source": [
    "# Provided code\n",
    "\n",
    "You shouldn't need to change anything in this section."
   ]
  },
  {
   "cell_type": "markdown",
   "metadata": {
    "colab_type": "text",
    "id": "4KkORWl2F6M9"
   },
   "source": [
    "### Load data to Colab"
   ]
  },
  {
   "cell_type": "code",
   "execution_count": 1,
   "metadata": {
    "colab": {
     "base_uri": "https://localhost:8080/",
     "height": 72
    },
    "colab_type": "code",
    "id": "kSqty85NFq-E",
    "outputId": "f676ecf1-4364-4606-f061-d2f0f62b714d"
   },
   "outputs": [
    {
     "name": "stdout",
     "output_type": "stream",
     "text": [
      "USA-road-d.NY.gr.txt\n",
      "USA-road-t.NY.gr.txt\n",
      "USA-road-d.NY.co.txt\n"
     ]
    }
   ],
   "source": [
    "if False:  # manual loading\n",
    "    from google.colab import file\n",
    "    uploaded = files.upload()  # then browse, select the files\n",
    "    \n",
    "else:  # automatic loading\n",
    "    import requests\n",
    "    import gzip\n",
    "    \n",
    "    filepath_d_gr = 'http://users.diag.uniroma1.it/challenge9/data/USA-road-d/' + 'USA-road-d.NY.gr.gz'\n",
    "    filepath_t_gr = 'http://users.diag.uniroma1.it/challenge9/data/USA-road-t/' + 'USA-road-t.NY.gr.gz'\n",
    "    filepath_d_co = 'http://users.diag.uniroma1.it/challenge9/data/USA-road-d/' + 'USA-road-d.NY.co.gz'\n",
    "    \n",
    "    def loader(url):\n",
    "        name = url.rsplit('/', 1)[1].rsplit('.', 1)[0]\n",
    "        savename = name + '.txt'\n",
    "        \n",
    "        with open(savename, 'wb') as f_out:\n",
    "            with requests.get(url) as r:\n",
    "                f_in = gzip.decompress(r.content)\n",
    "                f_out.write(f_in)\n",
    "                \n",
    "        print(savename)\n",
    "            \n",
    "    loader(filepath_d_gr)\n",
    "    loader(filepath_t_gr)\n",
    "    loader(filepath_d_co)"
   ]
  },
  {
   "cell_type": "markdown",
   "metadata": {
    "colab_type": "text",
    "id": "MgQyZNbXoW1m"
   },
   "source": [
    "### Graph and Vertex classes"
   ]
  },
  {
   "cell_type": "code",
   "execution_count": 2,
   "metadata": {
    "colab": {},
    "colab_type": "code",
    "id": "ywNJyeOdH0DE"
   },
   "outputs": [],
   "source": [
    "# Vertex implementation\n",
    "class Vertex:\n",
    "    # Initialization of a vertex, given a neighbor and the corresponding weight\n",
    "    # Each vertex contains a list of neighbors and corresponding weights\n",
    "    def __init__(self, i, neighbor_index, weight):\n",
    "        self.index = i\n",
    "        self.neighbors = [neighbor_index]\n",
    "        self.weights = [weight]\n",
    "        \n",
    "    def getNeighbors(self):\n",
    "        return self.neighbors\n",
    "    \n",
    "    def getWeights(self):\n",
    "        return self.weights\n",
    "    \n",
    "    # Add a neighbor with corresponding weight to the vertex\n",
    "    def _addNeighbor(self, neighbor_index, weight):\n",
    "        self.neighbors.append(neighbor_index)\n",
    "        self.weights.append(weight)\n",
    "\n",
    "\n",
    "# Graph data structure\n",
    "class Graph:\n",
    "    # Initializes a graph with n_vertices nodes\n",
    "    # The graph contains a list of vertices\n",
    "    def __init__(self, n_vertices):\n",
    "        self.vertices = [None] * (n_vertices+1)\n",
    "        self.num_vertices = len(self.vertices)\n",
    "    \n",
    "    # Returns the i'th node\n",
    "    def getVertex(self, i):\n",
    "        if ((i > len(self.vertices)) | (i <= 0)):\n",
    "            raise ValueError(f'index {i} is out of bounds')\n",
    "        else:\n",
    "            return self.vertices[i]\n",
    "    \n",
    "    # Adds a new vertex to the graph\n",
    "    def _addVertex(self, vertex_index, neighor_index, distance):\n",
    "        if (self.vertices[vertex_index] == None):\n",
    "            # Construct new vertex\n",
    "            self.vertices[vertex_index] = Vertex(vertex_index, neighor_index, distance)\n",
    "        else:\n",
    "            # Vertex already in graph but other neighbor, add extra edge\n",
    "            self.vertices[vertex_index]._addNeighbor(neighor_index, distance)\n"
   ]
  },
  {
   "cell_type": "code",
   "execution_count": 3,
   "metadata": {
    "colab": {},
    "colab_type": "code",
    "id": "NLfr2jKb1BG0"
   },
   "outputs": [],
   "source": [
    "import fileinput\n",
    "\n",
    "# Read graph data\n",
    "def readGraph(filePath):\n",
    "    n_vertices = 0\n",
    "    for line in fileinput.input([filePath]):\n",
    "        words = line.split(\" \")\n",
    "        if (words[0] == \"p\"):\n",
    "            n_vertices = int(words[2])\n",
    "    graph = Graph(n_vertices)\n",
    "    for line in fileinput.input([filePath]):\n",
    "        words = line.split(\" \")\n",
    "        if (words[0] == \"a\"):\n",
    "            graph._addVertex(int(words[1]), int(words[2]), float(words[3]))\n",
    "    return graph\n",
    "\n",
    "\n",
    "# Read coordinates data\n",
    "def readCoordinates(filepath):\n",
    "    # Start to count from 1\n",
    "    coordinates = [None]\n",
    "    for line in fileinput.input([filepath]):\n",
    "        words = line.split(\" \")\n",
    "        if (words[0] == \"v\"):\n",
    "            coordinates.append([float(words[2]), float(words[3])])\n",
    "    return coordinates\n"
   ]
  },
  {
   "cell_type": "markdown",
   "metadata": {
    "colab_type": "text",
    "id": "gP6t2Queo3XF"
   },
   "source": [
    "### Usefull functions"
   ]
  },
  {
   "cell_type": "code",
   "execution_count": 4,
   "metadata": {
    "colab": {},
    "colab_type": "code",
    "id": "KzkGZ4vRpEQh"
   },
   "outputs": [],
   "source": [
    "import numpy as np\n",
    "    \n",
    "# Priority queue definition\n",
    "class PriorityQueue(dict):\n",
    "    def put(self, item, value):\n",
    "        # Watch out that value is not overwritten with higher value, shouldn't be allowed to happen!\n",
    "        self[item] = min(value, self[item])\n",
    "    \n",
    "    def pop(self):\n",
    "        \"\"\"\n",
    "        Returns the item with the lowest weight\n",
    "        \"\"\"\n",
    "        item_min = min(self, key=self.get)\n",
    "        super().pop(item_min)\n",
    "        return item_min\n",
    "\n",
    "    \n",
    "def angles2centimeters(lo, la):\n",
    "    \"\"\"\n",
    "    Convert longitude and latitude to local orthogonal grid\n",
    "    :param lo: longitude\n",
    "    :param la: latitude\n",
    "    :return: height and width coordinates in cm's\n",
    "    \"\"\"\n",
    "    \n",
    "    radius = 6300 * 1e4  # cm\n",
    "    la_mean = 40794234.  # 1e-6 degree\n",
    "    lo_mean = -74016939.  # 1e-6 degree\n",
    "    \n",
    "    w = radius * np.cos(np.radians(la / 1e6)) * np.radians((lo - lo_mean) / 1e6)\n",
    "    h = radius * np.radians((la - la_mean) / 1e6)\n",
    "    \n",
    "    return w, h "
   ]
  },
  {
   "cell_type": "markdown",
   "metadata": {
    "colab_type": "text",
    "id": "A-9Y6SPNohI9"
   },
   "source": [
    "# Assignment"
   ]
  },
  {
   "cell_type": "markdown",
   "metadata": {},
   "source": [
    "## Code skeletons\n",
    "\n",
    "Feel free to move the following code to the relevant questions. \n",
    "\n",
    "Before submitting your code, make sure to execute all code fields sequentially. Notebooks that don't execute sequentially will be penalised."
   ]
  },
  {
   "cell_type": "code",
   "execution_count": 117,
   "metadata": {
    "colab": {},
    "colab_type": "code",
    "id": "Wv4N_v5YOHN_"
   },
   "outputs": [],
   "source": [
    "import math \n",
    "\n",
    "# The graph and coordinates data\n",
    "# TODO: implement\n",
    "graph = readGraph('USA-road-d.NY.gr.txt')\n",
    "co = readCoordinates('USA-road-d.NY.co.txt')\n",
    "\n",
    "\n",
    "# Heuristic function\n",
    "def h(node1, node2):\n",
    "    \"\"\"\n",
    "    Heuristic function\n",
    "    \"\"\"\n",
    "    \n",
    "    i1 = node1\n",
    "    i2 = node2\n",
    "\n",
    "    co1 = co[i1]\n",
    "    co2 = co[i2]\n",
    "    if not len(co1) == len(co2) :\n",
    "        print( \"Coordinates are not of the same dimensions.\" )\n",
    "\n",
    "    EuclidDistSq = 0\n",
    "    for i in range(0, len(co1)) : \n",
    "        EuclidDistSq += pow( co1[i] - co2[i], 2 )\n",
    "    \n",
    "    return math.sqrt( EuclidDistSq )\n",
    "\n",
    "def printPath( cameFrom, start, goal ) :\n",
    "    node = goal\n",
    "    path = [goal]\n",
    "    while not (node == start) :\n",
    "        node = cameFrom[node]\n",
    "        path.append(node)\n",
    "    path.reverse()\n",
    "    print(path)\n",
    "    return (path, len(path))\n",
    "\n",
    "\n",
    "# Algorithm\n",
    "def a_star_search(graph, co, start, goal):\n",
    "    \"\"\"\n",
    "    A* algorithm\n",
    "    :param graph: Graph object\n",
    "    :param co: coordinates list\n",
    "    :param start: index of start node\n",
    "    :param goal: index of goal node\n",
    "    :return: The path of nodes and total length\n",
    "    \"\"\"\n",
    "    open = set([start]) # A set of nodes\n",
    "    closed = set([]) # A set of nodes\n",
    "\n",
    "    cameFrom = {} # A node-node key-value mapping\n",
    "\n",
    "    gScore = {} # A node-int key-value mapping\n",
    "    gScore[start] = 0\n",
    "\n",
    "    fScore = {} # A node-int key-value mapping\n",
    "    fScore[start] = gScore[start] + h(start, goal)\n",
    "\n",
    "    nodeOrder = PriorityQueue()\n",
    "    nodeOrder.put(start, fScore.get(start))\n",
    "\n",
    "    while not len(open) == 0 :\n",
    "        # node with lowest f value --> track with priority queue of nodes + key-value mapping (node-fScore)\n",
    "        currentNode = nodeOrder.pop()\n",
    "        #print( 'current node : ' +  str(currentNode))\n",
    "        if currentNode == goal :\n",
    "            #print( cameFrom )\n",
    "            return printPath(cameFrom, start, goal)\n",
    "\n",
    "        open.remove(currentNode)\n",
    "        closed.add(currentNode)\n",
    "        neighbours = graph.getVertex(currentNode).getNeighbors()\n",
    "        #print( 'neighbours : ' +  str(neighbours))\n",
    "\n",
    "        weights = graph.getVertex(currentNode).getWeights()\n",
    "        \n",
    "        for neighbour in neighbours :\n",
    "            if not neighbour in closed :\n",
    "                tentative_gScore = gScore[currentNode] + weights[ neighbours.index(neighbour) ]\n",
    "                \n",
    "                if neighbour not in open :\n",
    "                    open.add(neighbour)\n",
    "                    fScore[neighbour] = float('inf')\n",
    "                    gScore[neighbour] = float('inf')\n",
    "                else :\n",
    "                    if tentative_gScore < gScore[neighbour] :\n",
    "                        #print( 'node ' +  str(neighbour) + ' added to cameFrom')\n",
    "                        gScore[neighbour] = tentative_gScore\n",
    "                        fScore[neighbour] = gScore[neighbour] + h(neighbour, goal)\n",
    "                cameFrom[neighbour] = currentNode \n",
    "                nodeOrder.put(neighbour, fScore[neighbour])\n",
    "    \n",
    "    return [], 0"
   ]
  },
  {
   "cell_type": "code",
   "execution_count": 125,
   "metadata": {},
   "outputs": [
    {
     "name": "stdout",
     "output_type": "stream",
     "text": [
      "start : 201980\n",
      "goal : 220501\n",
      "1\n",
      "[201980, 201979, 201976, 198896, 201960, 209745, 209743, 201961, 209733, 209730, 209698, 201617, 201616, 209708, 209685, 209061, 201568, 201567, 209029, 209024, 208999, 208998, 209012, 208911, 208913, 208912, 214358, 208905, 208901, 208860, 208858, 208850, 208851, 208849, 208856, 206499, 206498, 206419, 206438, 206494, 206441, 206426, 206235, 206227, 206204, 214329, 205549, 214886, 205551, 205480, 205479, 205481, 205482, 205378, 205375, 205374, 205376, 205380, 205371, 205333, 205332, 205328, 205329, 205318, 205571, 203406, 203399, 202627, 203403, 214946, 205604, 205605, 206537, 205682, 214382, 214941, 203453, 203419, 203158, 203157, 214390, 214389, 203516, 203409, 203410, 203508, 203506, 203498, 203478, 203461, 203474, 203472, 204160, 203330, 203279, 203278, 203280, 203634, 203626, 207437, 206911, 198732, 198775, 203473, 203569, 197274, 197273, 196924, 196925, 145965, 145966, 145976, 145982, 146000, 142365, 142364, 139965, 151412, 151411, 151416, 151420, 151426, 151427, 151428, 151460, 151462, 151468, 151471, 151488, 151489, 151579, 142101, 151497, 151498, 151586, 151499, 146116, 146115, 151626, 151627, 145964, 146932, 146942, 146941, 151624, 151625, 146945, 146944, 146948, 146925, 146926, 150133, 150132, 150159, 150160, 150178, 150179, 150181, 150180, 150182, 150374, 150373, 150375, 150382, 150383, 150393, 150392, 150379, 150378, 150377, 150376, 150337, 151816, 151815, 149788, 149787, 149790, 149746, 149743, 149738, 149210, 149209, 149213, 149600, 149596, 146947, 146946, 146951, 146959, 146958, 151642, 149502, 149294, 143938, 149024, 151847, 149174, 149175, 149176, 149177, 151639, 149339, 149338, 149026, 149007, 149008, 148986, 148044, 148037, 148019, 148018, 148020, 151814, 151631, 151630, 151636, 151635, 147924, 147821, 147811, 147800, 147798, 147795, 147809, 147793, 141720, 141455, 141454, 142464, 147305, 142912, 142911, 142990, 151850, 151849, 151851, 147310, 147309, 147308, 147307, 147306, 151380, 147199, 147195, 147194, 147079, 147076, 147077, 147078, 217680, 217681, 224225, 224205, 217669, 217655, 217402, 217401, 217585, 217558, 217400, 217341, 217309, 217306, 215952, 215894, 215891, 215774, 215775, 215773, 215578, 215579, 224149, 224150, 215414, 215409, 215391, 215337, 215335, 215336, 215320, 215323, 222201, 222194, 222195, 222171, 222168, 222170, 222175, 222174, 222180, 222181, 222184, 222247, 222248, 222249, 222243, 218884, 218885, 222245, 219575, 219613, 219612, 219610, 219619, 219622, 219623, 219558, 219569, 219507, 219506, 219567, 219521, 219517, 219514, 219513, 219092, 219237, 219240, 219242, 219236, 219238, 219226, 219227, 219228, 219229, 219230, 219233, 219257, 219252, 219253, 224628, 219104, 219098, 219096, 219097, 219095, 216117, 218198, 218202, 218195, 224245, 218203, 218204, 218183, 218163, 218160, 218064, 218067, 224248, 220287, 218337, 218338, 218142, 220334, 220251, 220276, 220277, 220430, 220404, 220402, 220403, 218153, 220405, 220406, 220453, 220454, 220456, 220460, 220461, 224700, 220465, 220509, 220500, 220501]\n",
      "374\n"
     ]
    },
    {
     "data": {
      "text/plain": [
       "True"
      ]
     },
     "execution_count": 125,
     "metadata": {},
     "output_type": "execute_result"
    }
   ],
   "source": [
    "# Calculate the path between your start and goal node. \n",
    "# Did you get the shortest-distance path? You can \n",
    "# verify your results in the distances.txt file.\n",
    "\n",
    "import random\n",
    "\n",
    "group_number = 0  # TODO: change to your group number\n",
    "num_vertices = graph.num_vertices  # TODO: number of vertices in the graph\n",
    "\n",
    "random.seed(group_number)\n",
    "\n",
    "start = random.randint(1, num_vertices + 1)\n",
    "goal = random.randint(1, num_vertices + 1)\n",
    "\n",
    "\n",
    "# Calculating the path between nodes\n",
    "print( 'start : ' +  str(start) )\n",
    "print( 'goal : ' + str(goal) )\n",
    "path, path_length = a_star_search(graph, co, start, goal)\n",
    "print(path_length)\n",
    "len(path) == len(set(path))"
   ]
  },
  {
   "cell_type": "markdown",
   "metadata": {},
   "source": [
    "## Answers\n",
    "\n",
    "Answer the questions from the assignment and add appropriate code where relevant to the question."
   ]
  },
  {
   "cell_type": "code",
   "execution_count": 114,
   "metadata": {},
   "outputs": [],
   "source": [
    "# TODO"
   ]
  },
  {
   "cell_type": "code",
   "execution_count": 123,
   "metadata": {},
   "outputs": [
    {
     "name": "stdout",
     "output_type": "stream",
     "text": [
      "264347\n",
      "The number of vertices is 264347\n",
      "The number of edges is 733846\n"
     ]
    }
   ],
   "source": [
    "# Question 1\n",
    "graph = readGraph(\"USA-road-d.NY.gr.txt\")\n",
    "vertices_nr = graph.num_vertices\n",
    "print(vertices_nr)\n",
    "\n",
    "edges_nr = 0\n",
    "for i in range(1, vertices_nr):\n",
    "    edges_nr += len(graph.getVertex(i).getNeighbors())\n",
    "\n",
    "print(\"The number of vertices is {}\".format(vertices_nr))\n",
    "print(\"The number of edges is {}\".format(edges_nr))"
   ]
  },
  {
   "cell_type": "code",
   "execution_count": 116,
   "metadata": {},
   "outputs": [
    {
     "name": "stdout",
     "output_type": "stream",
     "text": [
      "A* algorithm finds the cheapest path from a start node to the goal by keeping track of the current cheapest path from start node to node n in g(n) and searching for the best path from current node n to goal using a heuristic function h(n), e.g Euclidean distance. Adding up g(n) and h(n) results in the estimated cost of the cheapest path through node n, marked by f(n). The heuristic function should be consistent and admissible, consistent meaning that its estimate to the goal is always less than the estimate from any neighbouring node to the goal, plus the cost of reaching that neighbor, and admissible meaning that the function never overestimates the actual cost of reaching the goal.\n"
     ]
    }
   ],
   "source": [
    "# Question 2\n",
    "print(\"A* algorithm finds the cheapest path from a start node to the goal by keeping track of the current cheapest path from start node to node n in g(n) and searching for the best path from current node n to goal using a heuristic function h(n), e.g Euclidean distance. Adding up g(n) and h(n) results in the estimated cost of the cheapest path through node n, marked by f(n). The heuristic function should be consistent and admissible, consistent meaning that its estimate to the goal is always less than the estimate from any neighbouring node to the goal, plus the cost of reaching that neighbor, and admissible meaning that the function never overestimates the actual cost of reaching the goal.\")"
   ]
  },
  {
   "cell_type": "code",
   "execution_count": null,
   "metadata": {},
   "outputs": [],
   "source": []
  }
 ],
 "metadata": {
  "colab": {
   "collapsed_sections": [],
   "name": "a_star_student.ipynb",
   "provenance": [],
   "toc_visible": true
  },
  "interpreter": {
   "hash": "87954a8c3d1df39e782159dbf2add6282b709f49ed5d77c1f3f83eb69e4d4adf"
  },
  "kernelspec": {
   "display_name": "Python 3.10.0 64-bit",
   "name": "python3"
  },
  "language_info": {
   "codemirror_mode": {
    "name": "ipython",
    "version": 3
   },
   "file_extension": ".py",
   "mimetype": "text/x-python",
   "name": "python",
   "nbconvert_exporter": "python",
   "pygments_lexer": "ipython3",
   "version": "3.10.0"
  }
 },
 "nbformat": 4,
 "nbformat_minor": 1
}
