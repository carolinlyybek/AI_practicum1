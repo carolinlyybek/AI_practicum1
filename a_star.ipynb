{
 "cells": [
  {
   "cell_type": "markdown",
   "metadata": {
    "colab_type": "text",
    "id": "5p8wNfqaoPWp"
   },
   "source": [
    "# Provided code\n",
    "\n",
    "You shouldn't need to change anything in this section."
   ]
  },
  {
   "cell_type": "markdown",
   "metadata": {
    "colab_type": "text",
    "id": "4KkORWl2F6M9"
   },
   "source": [
    "### Load data to Colab"
   ]
  },
  {
   "cell_type": "code",
   "execution_count": 1,
   "metadata": {
    "colab": {
     "base_uri": "https://localhost:8080/",
     "height": 72
    },
    "colab_type": "code",
    "id": "kSqty85NFq-E",
    "outputId": "f676ecf1-4364-4606-f061-d2f0f62b714d"
   },
   "outputs": [
    {
     "name": "stdout",
     "output_type": "stream",
     "text": [
      "USA-road-d.NY.gr.txt\n",
      "USA-road-t.NY.gr.txt\n",
      "USA-road-d.NY.co.txt\n"
     ]
    }
   ],
   "source": [
    "if False:  # manual loading\n",
    "    from google.colab import file\n",
    "    uploaded = files.upload()  # then browse, select the files\n",
    "    \n",
    "else:  # automatic loading\n",
    "    import requests\n",
    "    import gzip\n",
    "    \n",
    "    filepath_d_gr = 'http://users.diag.uniroma1.it/challenge9/data/USA-road-d/' + 'USA-road-d.NY.gr.gz'\n",
    "    filepath_t_gr = 'http://users.diag.uniroma1.it/challenge9/data/USA-road-t/' + 'USA-road-t.NY.gr.gz'\n",
    "    filepath_d_co = 'http://users.diag.uniroma1.it/challenge9/data/USA-road-d/' + 'USA-road-d.NY.co.gz'\n",
    "    \n",
    "    def loader(url):\n",
    "        name = url.rsplit('/', 1)[1].rsplit('.', 1)[0]\n",
    "        savename = name + '.txt'\n",
    "        \n",
    "        with open(savename, 'wb') as f_out:\n",
    "            with requests.get(url) as r:\n",
    "                f_in = gzip.decompress(r.content)\n",
    "                f_out.write(f_in)\n",
    "                \n",
    "        print(savename)\n",
    "            \n",
    "    loader(filepath_d_gr)\n",
    "    loader(filepath_t_gr)\n",
    "    loader(filepath_d_co)"
   ]
  },
  {
   "cell_type": "code",
   "execution_count": null,
   "metadata": {},
   "outputs": [],
   "source": []
  },
  {
   "cell_type": "markdown",
   "metadata": {
    "colab_type": "text",
    "id": "MgQyZNbXoW1m"
   },
   "source": [
    "### Graph and Vertex classes"
   ]
  },
  {
   "cell_type": "code",
   "execution_count": 2,
   "metadata": {
    "colab": {},
    "colab_type": "code",
    "id": "ywNJyeOdH0DE"
   },
   "outputs": [],
   "source": [
    "# Vertex implementation\n",
    "class Vertex:\n",
    "    # Initialization of a vertex, given a neighbor and the corresponding weight\n",
    "    # Each vertex contains a list of neighbors and corresponding weights\n",
    "    def __init__(self, i, neighbor_index, weight):\n",
    "        self.index = i\n",
    "        self.neighbors = [neighbor_index]\n",
    "        self.weights = [weight]\n",
    "        \n",
    "    def getNeighbors(self):\n",
    "        return self.neighbors\n",
    "    \n",
    "    def getWeights(self):\n",
    "        return self.weights\n",
    "    \n",
    "    # Add a neighbor with corresponding weight to the vertex\n",
    "    def _addNeighbor(self, neighbor_index, weight):\n",
    "        self.neighbors.append(neighbor_index)\n",
    "        self.weights.append(weight)\n",
    "\n",
    "\n",
    "# Graph data structure\n",
    "class Graph:\n",
    "    # Initializes a graph with n_vertices nodes\n",
    "    # The graph contains a list of vertices\n",
    "    def __init__(self, n_vertices):\n",
    "        self.vertices = [None] * (n_vertices+1)\n",
    "        self.num_vertices = len(self.vertices)\n",
    "    \n",
    "    # Returns the i'th node\n",
    "    def getVertex(self, i):\n",
    "        if ((i > len(self.vertices)) | (i <= 0)):\n",
    "            raise ValueError(f'index {i} is out of bounds')\n",
    "        else:\n",
    "            return self.vertices[i]\n",
    "    \n",
    "    # Adds a new vertex to the graph\n",
    "    def _addVertex(self, vertex_index, neighor_index, distance):\n",
    "        if (self.vertices[vertex_index] == None):\n",
    "            # Construct new vertex\n",
    "            self.vertices[vertex_index] = Vertex(vertex_index, neighor_index, distance)\n",
    "        else:\n",
    "            # Vertex already in graph but other neighbor, add extra edge\n",
    "            self.vertices[vertex_index]._addNeighbor(neighor_index, distance)\n"
   ]
  },
  {
   "cell_type": "code",
   "execution_count": 3,
   "metadata": {
    "colab": {},
    "colab_type": "code",
    "id": "NLfr2jKb1BG0"
   },
   "outputs": [],
   "source": [
    "import fileinput\n",
    "\n",
    "# Read graph data\n",
    "def readGraph(filePath):\n",
    "    n_vertices = 0\n",
    "    for line in fileinput.input([filePath]):\n",
    "        words = line.split(\" \")\n",
    "        if (words[0] == \"p\"):\n",
    "            n_vertices = int(words[2])\n",
    "    graph = Graph(n_vertices)\n",
    "    for line in fileinput.input([filePath]):\n",
    "        words = line.split(\" \")\n",
    "        if (words[0] == \"a\"):\n",
    "            graph._addVertex(int(words[1]), int(words[2]), float(words[3]))\n",
    "    return graph\n",
    "\n",
    "\n",
    "# Read coordinates data\n",
    "def readCoordinates(filepath):\n",
    "    # Start to count from 1\n",
    "    coordinates = [None]\n",
    "    for line in fileinput.input([filepath]):\n",
    "        words = line.split(\" \")\n",
    "        if (words[0] == \"v\"):\n",
    "            coordinates.append([float(words[2]), float(words[3])])\n",
    "    return coordinates\n"
   ]
  },
  {
   "cell_type": "markdown",
   "metadata": {
    "colab_type": "text",
    "id": "gP6t2Queo3XF"
   },
   "source": [
    "### Usefull functions"
   ]
  },
  {
   "cell_type": "code",
   "execution_count": 4,
   "metadata": {
    "colab": {},
    "colab_type": "code",
    "id": "KzkGZ4vRpEQh"
   },
   "outputs": [],
   "source": [
    "import numpy as np\n",
    "    \n",
    "# Priority queue definition\n",
    "class PriorityQueue(dict):\n",
    "    def put(self, item, value):\n",
    "        # Watch out that value is not overwritten with higher value, shouldn't be allowed to happen!\n",
    "        if item in self :\n",
    "            value = min( value, self[item])\n",
    "        self[item] = value\n",
    "    def pop(self):\n",
    "        \"\"\"\n",
    "        Returns the item with the lowest weight\n",
    "        \"\"\"\n",
    "        item_min = min(self, key=self.get)\n",
    "        super().pop(item_min)\n",
    "        return item_min\n",
    "\n",
    "    \n",
    "def angles2centimeters(lo, la):\n",
    "    \"\"\"\n",
    "    Convert longitude and latitude to local orthogonal grid\n",
    "    :param lo: longitude\n",
    "    :param la: latitude\n",
    "    :return: height and width coordinates in cm's\n",
    "    \"\"\"\n",
    "    \n",
    "    radius = 6300 * 1e4  # cm\n",
    "    la_mean = 40794234.  # 1e-6 degree\n",
    "    lo_mean = -74016939.  # 1e-6 degree\n",
    "    \n",
    "    w = radius * np.cos(np.radians(la / 1e6)) * np.radians((lo - lo_mean) / 1e6)\n",
    "    h = radius * np.radians((la - la_mean) / 1e6)\n",
    "    \n",
    "    return w, h "
   ]
  },
  {
   "cell_type": "markdown",
   "metadata": {
    "colab_type": "text",
    "id": "A-9Y6SPNohI9"
   },
   "source": [
    "# Assignment"
   ]
  },
  {
   "cell_type": "markdown",
   "metadata": {},
   "source": [
    "## Code skeletons\n",
    "\n",
    "Feel free to move the following code to the relevant questions. \n",
    "\n",
    "Before submitting your code, make sure to execute all code fields sequentially. Notebooks that don't execute sequentially will be penalised."
   ]
  },
  {
   "cell_type": "code",
   "execution_count": null,
   "metadata": {
    "colab": {},
    "colab_type": "code",
    "id": "Wv4N_v5YOHN_"
   },
   "outputs": [],
   "source": []
  },
  {
   "cell_type": "markdown",
   "metadata": {},
   "source": [
    "## Answers\n",
    "\n",
    "Answer the questions from the assignment and add appropriate code where relevant to the question."
   ]
  },
  {
   "cell_type": "code",
   "execution_count": 5,
   "metadata": {},
   "outputs": [],
   "source": [
    "# TODO"
   ]
  },
  {
   "cell_type": "code",
   "execution_count": 6,
   "metadata": {},
   "outputs": [
    {
     "name": "stdout",
     "output_type": "stream",
     "text": [
      "The number of vertices is 264347\n",
      "The number of edges is 733846\n"
     ]
    }
   ],
   "source": [
    "# Question 1\n",
    "graph = readGraph(\"USA-road-d.NY.gr.txt\")\n",
    "vertices_nr = graph.num_vertices\n",
    "\n",
    "edges_nr = 0\n",
    "for i in range(1, vertices_nr):\n",
    "    edges_nr += len(graph.getVertex(i).getNeighbors())\n",
    "\n",
    "print(\"The number of vertices is {}\".format(vertices_nr))\n",
    "print(\"The number of edges is {}\".format(edges_nr))"
   ]
  },
  {
   "cell_type": "code",
   "execution_count": 7,
   "metadata": {},
   "outputs": [
    {
     "name": "stdout",
     "output_type": "stream",
     "text": [
      "A* algorithm finds the cheapest path from a start node to the goal by keeping track of the current cheapest path from start node to node n in g(n) and searching for the best path from current node n to goal using a heuristic function h(n), e.g Euclidean distance. Adding up g(n) and h(n) results in the estimated cost of the cheapest path through node n, marked by f(n). The heuristic function should be consistent and admissible, consistent meaning that its estimate to the goal from the current node is always less than or equal to the estimate from any neighbouring node to the goal PLUS the cost of reaching that neighbor from the current node. Admissible means that the heuristic function never overestimates the actual cost of reaching the goal. \n",
      "\n",
      "The choice of a heuristic function is vital - if h(n) =  0, the algorithm behaves as a Dijkstra's algorithm, which always finds the shortest path. If h(n) is admissible (lower than the actual cost of reaching the goal from n), it always finds the shortest path, but might make the algorithm slower. If h(n) is perfect (estimates the cost of reaching the goal from n exactly), the algorithm becomes very fast. If h(n) is not admissible (overestimates the cost sometimes), it might not find the shortest path, but is quicker.\n"
     ]
    }
   ],
   "source": [
    "# Question 2\n",
    "print(\"A* algorithm finds the cheapest path from a start node to the goal by keeping track of the current cheapest path from start node to node n in g(n) and searching for the best path from current node n to goal using a heuristic function h(n), e.g Euclidean distance. Adding up g(n) and h(n) results in the estimated cost of the cheapest path through node n, marked by f(n). The heuristic function should be consistent and admissible, consistent meaning that its estimate to the goal from the current node is always less than or equal to the estimate from any neighbouring node to the goal PLUS the cost of reaching that neighbor from the current node. Admissible means that the heuristic function never overestimates the actual cost of reaching the goal. \\n\")\n",
    "print(\"The choice of a heuristic function is vital - if h(n) =  0, the algorithm behaves as a Dijkstra's algorithm, which always finds the shortest path. If h(n) is admissible (lower than the actual cost of reaching the goal from n), it always finds the shortest path, but might make the algorithm slower. If h(n) is perfect (estimates the cost of reaching the goal from n exactly), the algorithm becomes very fast. If h(n) is not admissible (overestimates the cost sometimes), it might not find the shortest path, but is quicker.\")"
   ]
  },
  {
   "cell_type": "code",
   "execution_count": 18,
   "metadata": {},
   "outputs": [],
   "source": [
    "# Question 3\n",
    "import math \n",
    "\n",
    "# The graph and coordinates data\n",
    "# TODO: implement\n",
    "graph = readGraph('USA-road-d.NY.gr.txt')\n",
    "co = readCoordinates('USA-road-d.NY.co.txt')\n",
    "\n",
    "\n",
    "# Heuristic function\n",
    "def h(node1, node2):\n",
    "    \"\"\"\n",
    "    Heuristic function\n",
    "    \"\"\"\n",
    "    \n",
    "    #-- EUCLIDEAN DISTANCE with angles --#\n",
    "    \n",
    "    \"\"\"i1 = node1\n",
    "    i2 = node2\n",
    "\n",
    "    co1 = co[i1]\n",
    "    co2 = co[i2]\n",
    "    if not len(co1) == len(co2) :\n",
    "        print( \"Coordinates are not of the same dimensions.\" )\n",
    "        \n",
    "    \n",
    "\n",
    "    EuclidDistSq = 0\n",
    "    for i in range(0, len(co1)) : \n",
    "        EuclidDistSq += pow( co1[i] - co2[i], 2 )\n",
    "    \n",
    "    \n",
    "    return math.sqrt( EuclidDistSq )\"\"\"\n",
    "    \n",
    "    #-- EUCLIDEAN DISTANCE with cm-s --#\n",
    "    \n",
    "    co1 = co[node1]\n",
    "    co2 = co[node2]\n",
    "    \n",
    "    w1, l1 = angles2centimeters(co1[0], co1[1])\n",
    "    w2, l2 = angles2centimeters(co2[0], co2[1])\n",
    "    \n",
    "    EuclidDistSq = pow( w1 - w2, 2 ) + pow( l1 - l2, 2 )\n",
    "    return math.sqrt( EuclidDistSq )\n",
    "\n",
    "\n",
    "def printPath( cameFrom, start, goal ) :\n",
    "    node = goal\n",
    "    path = [goal]\n",
    "    cost = 0\n",
    "    while not (node == start) :\n",
    "        previous = cameFrom[node]\n",
    "        weights_prev = graph.getVertex(previous).getWeights()\n",
    "        index =  graph.getVertex(previous).getNeighbors().index(node)\n",
    "        cost += weights_prev[index]\n",
    "        node = previous\n",
    "        path.append(node)\n",
    "    path.reverse()\n",
    "    print(path)\n",
    "    return (path, cost)\n",
    "\n",
    "\n",
    "# Algorithm\n",
    "def a_star_search(graph, co, start, goal):\n",
    "    \"\"\"\n",
    "    A* algorithm\n",
    "    :param graph: Graph object\n",
    "    :param co: coordinates list\n",
    "    :param start: index of start node\n",
    "    :param goal: index of goal node\n",
    "    :return: The path of nodes and total length\n",
    "    \"\"\"\n",
    "    openSet = set([start]) # A set of nodes\n",
    "    closed = set([]) # A set of nodes\n",
    "\n",
    "    cameFrom = {} # A node-node key-value mapping\n",
    "\n",
    "    gScore = {} # A node-int key-value mapping\n",
    "    gScore[start] = 0\n",
    "\n",
    "    fScore = {} # A node-int key-value mapping\n",
    "    \"\"\" CHANGE HEURISTIC FUNCTION HERE \"\"\"\n",
    "    fScore[start] = gScore[start] + h(start, goal)\n",
    "\n",
    "    nodeOrder = PriorityQueue()\n",
    "    nodeOrder.put(start, fScore.get(start))\n",
    "\n",
    "    while not len(openSet) == 0 :\n",
    "        # node with lowest f value --> track with priority queue of nodes + key-value mapping (node-fScore)\n",
    "        currentNode = nodeOrder.pop()\n",
    "        #print( 'current node : ' +  str(currentNode))\n",
    "        if currentNode == goal :\n",
    "            #print( cameFrom )\n",
    "            return printPath(cameFrom, start, goal)\n",
    "\n",
    "        openSet.remove(currentNode)\n",
    "        closed.add(currentNode)\n",
    "        neighbours = graph.getVertex(currentNode).getNeighbors()\n",
    "        #print( 'neighbours : ' +  str(neighbours))\n",
    "\n",
    "        weights = graph.getVertex(currentNode).getWeights()\n",
    "        \n",
    "        for neighbour in neighbours :\n",
    "            \"\"\"if not neighbour in closed :\n",
    "                tentative_gScore = gScore[currentNode] + weights[ neighbours.index(neighbour) ]\n",
    "                #print( 'gScore ' + str(gScore[currentNode] ))\n",
    "                #print(' weight ' + str(weights[ neighbours.index(neighbour) ])) \n",
    "                \n",
    "                if ( neighbour not in gScore.keys() ) or ( tentative_gScore < gScore[neighbour] ) :\n",
    "                    #print('chenged')\n",
    "                    #print( 'node ' +  str(neighbour) + ' added to cameFrom')\n",
    "\n",
    "                    gScore[neighbour] = tentative_gScore\n",
    "                    fScore[neighbour] = gScore[neighbour] + h4(neighbour, goal)\n",
    "                    cameFrom[neighbour] = currentNode \n",
    "                    if neighbour not in open :\n",
    "                        open.add(neighbour)\n",
    "                        nodeOrder.put(neighbour, fScore[neighbour])\"\"\"\n",
    "            \n",
    "            # based on pseudocode #\n",
    "            if neighbour in closed:\n",
    "                continue\n",
    "            tentative_g_score = gScore[currentNode] + weights[ neighbours.index(neighbour) ]\n",
    "            if neighbour not in openSet:\n",
    "                openSet.add(neighbour)\n",
    "            elif tentative_g_score >= gScore[neighbour]:\n",
    "                continue\n",
    "            cameFrom[neighbour] = currentNode\n",
    "            gScore[neighbour] = tentative_g_score\n",
    "            \"\"\" CHANGE HEURISTIC FUNCTION HERE \"\"\"\n",
    "            fScore[neighbour] = gScore[neighbour] + h(neighbour, goal)\n",
    "            nodeOrder.put(neighbour, fScore[neighbour])\n",
    "            \n",
    "            # consistency check - is it correct ?? #\n",
    "            \"\"\" CHANGE HEURISTIC FUNCTION HERE \"\"\"\n",
    "            if (h(currentNode, goal) > fScore[neighbour]):\n",
    "                print(\"Heuristics not consistent, estimate from \" + str(currentNode) + \" is bigger than from \" + str(neighbour))\n",
    "            \n",
    "    return [], 0"
   ]
  },
  {
   "cell_type": "code",
   "execution_count": 9,
   "metadata": {},
   "outputs": [
    {
     "name": "stdout",
     "output_type": "stream",
     "text": [
      "A* function with Euclidean distance heuristics does return the shortest distance path.\n"
     ]
    }
   ],
   "source": [
    "# Question 3\n",
    "print(\"A* function with Euclidean distance heuristics does return the shortest distance path.\")"
   ]
  },
  {
   "cell_type": "code",
   "execution_count": 10,
   "metadata": {},
   "outputs": [
    {
     "name": "stdout",
     "output_type": "stream",
     "text": [
      "A* search with an heuristic function of h(n)=0 is optimal, as the heuristic function is consistent, because the estimate to the goal from any node is always 0, which in itself is less than the cost of reaching any following node. \n",
      "The running time of the algorithm is long, so the algorithm with no heuristics is not time- or space-efficient.\n"
     ]
    }
   ],
   "source": [
    "# Question 4\n",
    "def h4(node1, node2):\n",
    "    return 0\n",
    "print(\"A* search with an heuristic function of h(n)=0 is optimal, as the heuristic function is consistent, because the estimate to the goal from any node is always 0, which in itself is less than the cost of reaching any following node. \\nThe running time of the algorithm is long, so the algorithm with no heuristics is not time- or space-efficient.\")"
   ]
  },
  {
   "cell_type": "code",
   "execution_count": 11,
   "metadata": {},
   "outputs": [
    {
     "name": "stdout",
     "output_type": "stream",
     "text": [
      "Algorithm with Manhattan distance is not optimal, as the heuristic estimate is bigger from the first node than the cost of reaching a certain following node plus the estimate to the goal from there.\n",
      "Algorithm with Euclidan heuristics returns the shortest distance path, but runs longer than the algorithm with Manhattan heuristics. Algorithm with Manhattan heuristics does not return the shortest distance path, but the running time in this case is very short.\n"
     ]
    }
   ],
   "source": [
    "# Question 5\n",
    "def h5(node1, node2):\n",
    "    co1 = co[node1]\n",
    "    co2 = co[node2]\n",
    "    \n",
    "    w1, l1 = angles2centimeters(co1[0], co1[1])\n",
    "    w2, l2 = angles2centimeters(co2[0], co2[1])\n",
    "    \n",
    "    ManhattanDist = abs(w1-w2) +  abs(l1-l2)\n",
    "    return ManhattanDist\n",
    "# TODO: is consistency check correct?? #\n",
    "print(\"Algorithm with Manhattan distance is not optimal, as the heuristic estimate is bigger from the first node than the cost of reaching a certain following node plus the estimate to the goal from there.\\nAlgorithm with Euclidan heuristics returns the shortest distance path, but runs longer than the algorithm with Manhattan heuristics. Algorithm with Manhattan heuristics does not return the shortest distance path, but the running time in this case is very short.\")"
   ]
  },
  {
   "cell_type": "code",
   "execution_count": 12,
   "metadata": {},
   "outputs": [
    {
     "name": "stdout",
     "output_type": "stream",
     "text": [
      "\n"
     ]
    }
   ],
   "source": [
    "# Queston 6\n",
    "def h6(node1, node2):\n",
    "    return 0\n",
    "print(\"\")"
   ]
  },
  {
   "cell_type": "code",
   "execution_count": 13,
   "metadata": {},
   "outputs": [],
   "source": [
    "# Question 7\n",
    "graph = readGraph('USA-road-t.NY.gr.txt')\n",
    "co = readCoordinates('USA-road-d.NY.co.txt')"
   ]
  },
  {
   "cell_type": "code",
   "execution_count": 14,
   "metadata": {},
   "outputs": [],
   "source": [
    "# Question 8\n",
    "## Best heuristic somehow takes into account the weights (i.e. times). For example: Give weight to every node == sum of all it's (outgoing) arcs. use this weights a an additional weight in combination with euclidian heuristic.\n",
    "def h_8(node1, node2):\n",
    "    \"\"\"\n",
    "    Heuristic function\n",
    "    \"\"\"\n",
    "    \n",
    "    i1 = node1\n",
    "    i2 = node2\n",
    "\n",
    "    co1 = co[i1]\n",
    "    co2 = co[i2]\n",
    "\n",
    "    weight1 = graph.getVertex(i1).getWeigths()\n",
    "    weight2 = graph.getVertex(i2).getWeigths()\n",
    "    weight = (weight1 + weight2) /2\n",
    "    if not len(co1) == len(co2) :\n",
    "        print( \"Coordinates are not of the same dimensions.\" )\n",
    "\n",
    "    EuclidDistSq = 0\n",
    "    for i in range(0, len(co1)) : \n",
    "        WeightedEuclidDistSq += weight*(pow( co1[i] - co2[i], 2 ))\n",
    "    \n",
    "    return math.sqrt( WeightedEuclidDistSq )\n"
   ]
  },
  {
   "cell_type": "code",
   "execution_count": 19,
   "metadata": {},
   "outputs": [
    {
     "name": "stdout",
     "output_type": "stream",
     "text": [
      "start : 123758\n",
      "goal : 159016\n",
      "[123758, 123757, 123760, 123759, 123763, 123765, 123770, 123771, 123772, 123791, 123794, 123801, 123800, 125504, 125503, 125508, 123952, 132536, 125522, 125521, 125523, 125531, 125536, 125622, 125623, 125631, 125630, 125633, 125632, 125637, 125638, 125647, 125650, 125968, 125967, 125972, 125975, 125976, 125979, 125982, 125983, 126084, 126083, 126088, 126090, 126094, 126095, 126143, 126144, 126145, 126146, 126156, 126159, 126160, 126161, 126162, 126164, 126165, 126166, 127106, 127107, 127117, 127082, 127071, 127083, 127086, 127203, 127246, 127252, 127253, 127268, 127890, 132532, 127895, 127896, 127886, 127893, 127934, 127935, 127939, 124073, 127943, 127945, 128062, 128065, 128066, 128076, 129977, 129979, 129978, 129982, 130014, 130020, 130023, 130035, 130038, 130539, 130590, 130609, 130608, 130726, 130736, 130774, 130775, 130780, 131309, 48251, 48250, 48253, 48194, 48201, 48232, 48241, 48989, 48992, 48993, 49004, 49005, 49028, 49030, 49037, 49041, 49180, 49193, 49195, 49196, 49461, 49460, 49190, 49463, 49456, 49454, 49452, 48980, 49458, 49475, 49474, 49476, 49477, 49441, 49525, 49523, 49521, 49548, 49556, 49559, 49773, 49738, 49736, 49745, 49746, 49748, 49750, 49759, 49768, 49771, 53681, 53682, 53684, 53686, 53712, 53724, 53725, 53728, 53752, 53753, 53760, 53761, 53758, 54767, 54778, 54781, 54793, 56735, 54792, 54797, 54798, 54888, 54894, 54903, 54904, 54914, 54971, 55005, 54990, 55021, 55592, 55609, 55610, 55613, 55620, 55621, 55624, 55684, 55686, 55687, 55689, 55692, 55699, 55700, 55845, 55854, 55862, 55865, 56785, 55913, 55912, 56604, 56603, 56606, 56605, 56602, 56601, 56600, 189832, 189824, 190558, 189862, 189861, 189870, 189888, 189886, 189898, 189893, 190270, 190305, 190304, 190312, 190314, 190325, 189713, 189712, 186541, 186539, 186553, 186557, 186560, 186569, 186588, 186663, 186662, 186683, 186688, 186687, 186701, 186710, 186713, 186723, 186728, 186770, 186773, 186777, 186793, 186794, 186803, 186804, 186818, 186825, 187118, 187131, 187130, 187129, 187128, 187147, 187145, 187160, 187088, 187089, 140629, 140630, 140637, 140638, 140652, 140655, 140660, 140731, 140733, 140736, 140739, 140755, 140760, 140763, 141047, 141048, 141052, 141063, 141064, 141090, 141093, 141095, 141097, 141098, 141099, 141149, 141151, 141153, 141154, 141157, 142205, 142206, 142207, 142211, 142212, 142213, 142338, 142339, 142340, 142341, 142345, 142346, 142354, 142355, 142361, 142368, 142370, 142371, 142397, 142398, 142400, 142401, 142405, 142426, 142430, 142450, 142452, 142454, 142458, 142460, 142461, 144380, 144381, 144382, 144384, 144395, 144396, 144404, 144405, 144407, 144413, 144414, 144415, 144416, 144456, 144457, 144518, 144520, 144522, 144529, 144531, 144533, 144537, 144538, 144539, 144678, 142094, 142095, 144680, 144687, 144688, 144694, 144695, 144696, 144701, 144703, 144726, 144741, 144742, 144759, 144760, 144761, 144769, 144770, 144772, 144779, 144780, 144781, 145326, 145327, 145331, 145335, 145337, 145339, 145511, 145559, 145560, 145567, 145570, 145580, 145581, 145583, 145747, 145748, 145750, 145753, 145766, 145767, 145770, 145769, 145809, 145810, 145813, 145817, 145829, 145831, 145476, 145478, 145992, 145994, 145997, 146005, 146026, 146031, 146076, 151410, 151411, 151412, 151417, 151429, 151438, 151439, 151440, 151502, 151507, 151508, 151511, 151523, 151533, 203809, 203817, 203819, 203821, 203832, 203836, 203838, 204430, 204454, 204457, 204516, 204519, 204522, 204529, 204703, 204711, 204712, 204718, 204719, 204727, 214522, 204740, 204741, 204762, 204764, 204770, 204771, 207633, 207635, 207643, 207644, 207646, 207647, 207682, 207685, 207687, 207691, 207704, 207707, 207708, 207709, 207775, 207777, 207778, 207788, 207791, 207796, 207800, 207801, 207847, 207848, 207870, 207871, 214693, 214408, 208554, 208557, 208558, 208561, 208563, 208582, 208621, 208631, 208632, 208634, 208686, 208688, 208687, 208690, 208696, 208701, 208704, 208762, 208758, 208764, 208763, 208784, 208789, 211126, 211127, 211129, 211140, 211147, 211187, 211189, 211212, 211386, 211388, 211390, 214932, 211456, 211457, 211444, 211445, 212121, 212232, 212167, 212762, 212364, 212365, 212367, 161408, 161407, 161406, 161405, 161404, 164589, 160146, 160147, 164867, 164866, 164914, 164941, 164940, 164911, 164910, 164948, 165678, 165684, 165682, 165683, 165680, 165715, 165714, 165713, 165712, 165710, 165711, 165796, 165833, 165832, 165831, 165830, 165829, 165828, 166089, 166088, 166165, 166176, 166175, 168070, 168069, 168068, 168087, 168086, 168131, 168130, 168150, 168149, 168148, 168337, 168334, 168327, 168351, 168385, 168386, 168367, 168369, 168365, 168383, 168381, 168380, 168377, 168745, 168756, 168777, 168776, 168775, 168813, 168930, 168928, 162416, 162415, 162414, 162413, 162412, 162411, 152145, 152144, 152143, 152128, 152124, 152142, 152141, 152140, 154190, 154188, 154189, 154510, 154511, 154508, 154509, 154522, 154555, 154554, 154553, 154552, 155094, 155093, 155149, 155153, 155157, 155160, 155366, 155386, 155389, 155391, 155378, 155397, 155396, 155395, 155393, 155437, 155455, 155449, 155458, 155459, 157705, 157703, 157701, 157702, 157730, 157729, 157764, 157765, 157779, 157778, 157777, 158011, 158008, 158007, 158009, 158015, 158050, 158047, 158026, 158022, 158021, 158034, 158035, 158713, 158714, 158716, 158709, 158707, 158708, 158726, 158724, 158694, 158692, 158693, 158765, 158788, 158796, 158795, 158793, 158981, 158982, 158983, 172352, 158985, 158984, 158999, 159000, 159001, 159002, 159003, 159004, 159005, 159006, 159045, 159044, 159021, 159020, 159019, 159018, 159017, 159016]\n",
      "cost of path: 769417.0\n",
      "length of path: 705\n",
      "time elapsed: 17.75\n"
     ]
    }
   ],
   "source": [
    "# Calculate the path between your start and goal node. \n",
    "# Did you get the shortest-distance path? You can \n",
    "# verify your results in the distances.txt file.\n",
    "\n",
    "import random\n",
    "import time\n",
    "\n",
    "group_number = 4 # TODO: change to your group number\n",
    "num_vertices = graph.num_vertices  # TODO: number of vertices in the graph\n",
    "\n",
    "random.seed(group_number)\n",
    "\n",
    "start = random.randint(1, num_vertices + 1)\n",
    "goal = random.randint(1, num_vertices + 1)\n",
    "\n",
    "# Calculating the path between nodes\n",
    "print( 'start : ' +  str(start) )\n",
    "print( 'goal : ' + str(goal) )\n",
    "\n",
    "time0 = time.time()\n",
    "path, path_cost = a_star_search(graph, co, start, goal)\n",
    "time1 = time.time()\n",
    "\n",
    "print('cost of path: ' + str(path_cost))\n",
    "path_length = len(path)\n",
    "print('length of path: ' + str(path_length))\n",
    "print(\"time elapsed: \" + str(round(time1-time0, 2)))"
   ]
  }
 ],
 "metadata": {
  "colab": {
   "collapsed_sections": [],
   "name": "a_star_student.ipynb",
   "provenance": [],
   "toc_visible": true
  },
  "interpreter": {
   "hash": "87954a8c3d1df39e782159dbf2add6282b709f49ed5d77c1f3f83eb69e4d4adf"
  },
  "kernelspec": {
   "display_name": "Python 3",
   "language": "python",
   "name": "python3"
  },
  "language_info": {
   "codemirror_mode": {
    "name": "ipython",
    "version": 3
   },
   "file_extension": ".py",
   "mimetype": "text/x-python",
   "name": "python",
   "nbconvert_exporter": "python",
   "pygments_lexer": "ipython3",
   "version": "3.8.3"
  }
 },
 "nbformat": 4,
 "nbformat_minor": 1
}
