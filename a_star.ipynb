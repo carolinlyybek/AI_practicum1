{
 "cells": [
  {
   "cell_type": "markdown",
   "metadata": {
    "colab_type": "text",
    "id": "5p8wNfqaoPWp"
   },
   "source": [
    "# Provided code\n",
    "\n",
    "You shouldn't need to change anything in this section."
   ]
  },
  {
   "cell_type": "markdown",
   "metadata": {
    "colab_type": "text",
    "id": "4KkORWl2F6M9"
   },
   "source": [
    "### Load data to Colab"
   ]
  },
  {
   "cell_type": "code",
   "execution_count": 1,
   "metadata": {
    "colab": {
     "base_uri": "https://localhost:8080/",
     "height": 72
    },
    "colab_type": "code",
    "id": "kSqty85NFq-E",
    "outputId": "f676ecf1-4364-4606-f061-d2f0f62b714d"
   },
   "outputs": [
    {
     "name": "stdout",
     "output_type": "stream",
     "text": [
      "USA-road-d.NY.gr.txt\n",
      "USA-road-t.NY.gr.txt\n",
      "USA-road-d.NY.co.txt\n"
     ]
    }
   ],
   "source": [
    "if False:  # manual loading\n",
    "    from google.colab import file\n",
    "    uploaded = files.upload()  # then browse, select the files\n",
    "    \n",
    "else:  # automatic loading\n",
    "    import requests\n",
    "    import gzip\n",
    "    \n",
    "    filepath_d_gr = 'http://users.diag.uniroma1.it/challenge9/data/USA-road-d/' + 'USA-road-d.NY.gr.gz'\n",
    "    filepath_t_gr = 'http://users.diag.uniroma1.it/challenge9/data/USA-road-t/' + 'USA-road-t.NY.gr.gz'\n",
    "    filepath_d_co = 'http://users.diag.uniroma1.it/challenge9/data/USA-road-d/' + 'USA-road-d.NY.co.gz'\n",
    "    \n",
    "    def loader(url):\n",
    "        name = url.rsplit('/', 1)[1].rsplit('.', 1)[0]\n",
    "        savename = name + '.txt'\n",
    "        \n",
    "        with open(savename, 'wb') as f_out:\n",
    "            with requests.get(url) as r:\n",
    "                f_in = gzip.decompress(r.content)\n",
    "                f_out.write(f_in)\n",
    "                \n",
    "        print(savename)\n",
    "            \n",
    "    loader(filepath_d_gr)\n",
    "    loader(filepath_t_gr)\n",
    "    loader(filepath_d_co)"
   ]
  },
  {
   "cell_type": "markdown",
   "metadata": {
    "colab_type": "text",
    "id": "MgQyZNbXoW1m"
   },
   "source": [
    "### Graph and Vertex classes"
   ]
  },
  {
   "cell_type": "code",
   "execution_count": 2,
   "metadata": {
    "colab": {},
    "colab_type": "code",
    "id": "ywNJyeOdH0DE"
   },
   "outputs": [],
   "source": [
    "# Vertex implementation\n",
    "class Vertex:\n",
    "    # Initialization of a vertex, given a neighbor and the corresponding weight\n",
    "    # Each vertex contains a list of neighbors and corresponding weights\n",
    "    def __init__(self, i, neighbor_index, weight):\n",
    "        self.index = i\n",
    "        self.neighbors = [neighbor_index]\n",
    "        self.weights = [weight]\n",
    "        \n",
    "    def getNeighbors(self):\n",
    "        return self.neighbors\n",
    "    \n",
    "    def getWeights(self):\n",
    "        return self.weights\n",
    "    \n",
    "    # Add a neighbor with corresponding weight to the vertex\n",
    "    def _addNeighbor(self, neighbor_index, weight):\n",
    "        self.neighbors.append(neighbor_index)\n",
    "        self.weights.append(weight)\n",
    "\n",
    "\n",
    "# Graph data structure\n",
    "class Graph:\n",
    "    # Initializes a graph with n_vertices nodes\n",
    "    # The graph contains a list of vertices\n",
    "    def __init__(self, n_vertices):\n",
    "        self.vertices = [None] * (n_vertices+1)\n",
    "        self.num_vertices = len(self.vertices)\n",
    "    \n",
    "    # Returns the i'th node\n",
    "    def getVertex(self, i):\n",
    "        if ((i > len(self.vertices)) | (i <= 0)):\n",
    "            raise ValueError(f'index {i} is out of bounds')\n",
    "        else:\n",
    "            return self.vertices[i]\n",
    "    \n",
    "    # Adds a new vertex to the graph\n",
    "    def _addVertex(self, vertex_index, neighor_index, distance):\n",
    "        if (self.vertices[vertex_index] == None):\n",
    "            # Construct new vertex\n",
    "            self.vertices[vertex_index] = Vertex(vertex_index, neighor_index, distance)\n",
    "        else:\n",
    "            # Vertex already in graph but other neighbor, add extra edge\n",
    "            self.vertices[vertex_index]._addNeighbor(neighor_index, distance)\n"
   ]
  },
  {
   "cell_type": "code",
   "execution_count": 3,
   "metadata": {
    "colab": {},
    "colab_type": "code",
    "id": "NLfr2jKb1BG0"
   },
   "outputs": [],
   "source": [
    "import fileinput\n",
    "\n",
    "# Read graph data\n",
    "def readGraph(filePath):\n",
    "    n_vertices = 0\n",
    "    for line in fileinput.input([filePath]):\n",
    "        words = line.split(\" \")\n",
    "        if (words[0] == \"p\"):\n",
    "            n_vertices = int(words[2])\n",
    "    graph = Graph(n_vertices)\n",
    "    for line in fileinput.input([filePath]):\n",
    "        words = line.split(\" \")\n",
    "        if (words[0] == \"a\"):\n",
    "            graph._addVertex(int(words[1]), int(words[2]), float(words[3]))\n",
    "    return graph\n",
    "\n",
    "\n",
    "# Read coordinates data\n",
    "def readCoordinates(filepath):\n",
    "    # Start to count from 1\n",
    "    coordinates = [None]\n",
    "    for line in fileinput.input([filepath]):\n",
    "        words = line.split(\" \")\n",
    "        if (words[0] == \"v\"):\n",
    "            coordinates.append([float(words[2]), float(words[3])])\n",
    "    return coordinates\n"
   ]
  },
  {
   "cell_type": "markdown",
   "metadata": {
    "colab_type": "text",
    "id": "gP6t2Queo3XF"
   },
   "source": [
    "### Usefull functions"
   ]
  },
  {
   "cell_type": "code",
   "execution_count": 4,
   "metadata": {
    "colab": {},
    "colab_type": "code",
    "id": "KzkGZ4vRpEQh"
   },
   "outputs": [],
   "source": [
    "import numpy as np\n",
    "    \n",
    "# Priority queue definition\n",
    "class PriorityQueue(dict):\n",
    "    def put(self, item, value):\n",
    "        # Watch out that value is not overwritten with higher value, shouldn't be allowed to happen!\n",
    "        if item in self :\n",
    "            value = min( value, self[item])\n",
    "        self[item] = value\n",
    "    def pop(self):\n",
    "        \"\"\"\n",
    "        Returns the item with the lowest weight\n",
    "        \"\"\"\n",
    "        item_min = min(self, key=self.get)\n",
    "        super().pop(item_min)\n",
    "        return item_min\n",
    "\n",
    "    \n",
    "def angles2centimeters(lo, la):\n",
    "    \"\"\"\n",
    "    Convert longitude and latitude to local orthogonal grid\n",
    "    :param lo: longitude\n",
    "    :param la: latitude\n",
    "    :return: height and width coordinates in cm's\n",
    "    \"\"\"\n",
    "    \n",
    "    radius = 6300 * 1e4  # cm\n",
    "    la_mean = 40794234.  # 1e-6 degree\n",
    "    lo_mean = -74016939.  # 1e-6 degree\n",
    "    \n",
    "    w = radius * np.cos(np.radians(la / 1e6)) * np.radians((lo - lo_mean) / 1e6)\n",
    "    h = radius * np.radians((la - la_mean) / 1e6)\n",
    "    \n",
    "    return w, h "
   ]
  },
  {
   "cell_type": "markdown",
   "metadata": {
    "colab_type": "text",
    "id": "A-9Y6SPNohI9"
   },
   "source": [
    "# Assignment"
   ]
  },
  {
   "cell_type": "markdown",
   "metadata": {},
   "source": [
    "## Code skeletons\n",
    "\n",
    "Feel free to move the following code to the relevant questions. \n",
    "\n",
    "Before submitting your code, make sure to execute all code fields sequentially. Notebooks that don't execute sequentially will be penalised."
   ]
  },
  {
   "cell_type": "markdown",
   "metadata": {},
   "source": [
    "## Answers\n",
    "\n",
    "Answer the questions from the assignment and add appropriate code where relevant to the question."
   ]
  },
  {
   "cell_type": "code",
   "execution_count": 6,
   "metadata": {},
   "outputs": [
    {
     "name": "stdout",
     "output_type": "stream",
     "text": [
      "The number of vertices is 264347\n",
      "The number of edges is 733846\n"
     ]
    }
   ],
   "source": [
    "# Question 1\n",
    "graph = readGraph(\"USA-road-d.NY.gr.txt\")\n",
    "vertices_nr = graph.num_vertices\n",
    "\n",
    "edges_nr = 0\n",
    "for i in range(1, vertices_nr):\n",
    "    edges_nr += len(graph.getVertex(i).getNeighbors())\n",
    "\n",
    "print(\"The number of vertices is {}\".format(vertices_nr))\n",
    "print(\"The number of edges is {}\".format(edges_nr))"
   ]
  },
  {
   "cell_type": "code",
   "execution_count": 7,
   "metadata": {},
   "outputs": [
    {
     "name": "stdout",
     "output_type": "stream",
     "text": [
      "A* algorithm finds the cheapest path from a start node to the goal by keeping track of the current cheapest path from start node to node n in g(n) and searching for the best path from current node n to goal using a heuristic function h(n), e.g Euclidean distance. Adding up g(n) and h(n) results in the estimated cost of the cheapest path through node n, marked by f(n). The heuristic function should be consistent and admissible, consistent meaning that its estimate to the goal from the current node is always less than or equal to the estimate from any neighbouring node to the goal PLUS the cost of reaching that neighbor from the current node. Admissible means that the heuristic function never overestimates the actual cost of reaching the goal. \n",
      "\n",
      "The choice of a heuristic function is vital - if h(n) =  0, the algorithm behaves as a Dijkstra's algorithm, which always finds the shortest path. If h(n) is admissible (lower than the actual cost of reaching the goal from n), it always finds the shortest path, but might make the algorithm slower. If h(n) is perfect (estimates the cost of reaching the goal from n exactly), the algorithm becomes very fast. If h(n) is not admissible (overestimates the cost sometimes), it might not find the shortest path, but is quicker.\n"
     ]
    }
   ],
   "source": [
    "# Question 2\n",
    "print(\"A* algorithm finds the cheapest path from a start node to the goal by keeping track of the current cheapest path from start node to node n in g(n) and searching for the best path from current node n to goal using a heuristic function h(n), e.g Euclidean distance. Adding up g(n) and h(n) results in the estimated cost of the cheapest path through node n, marked by f(n). The heuristic function should be consistent and admissible, consistent meaning that its estimate to the goal from the current node is always less than or equal to the estimate from any neighbouring node to the goal PLUS the cost of reaching that neighbor from the current node. Admissible means that the heuristic function never overestimates the actual cost of reaching the goal. \\n\")\n",
    "print(\"The choice of a heuristic function is vital - if h(n) =  0, the algorithm behaves as a Dijkstra's algorithm, which always finds the shortest path. If h(n) is admissible (lower than the actual cost of reaching the goal from n), it always finds the shortest path, but might make the algorithm slower. If h(n) is perfect (estimates the cost of reaching the goal from n exactly), the algorithm becomes very fast. If h(n) is not admissible (overestimates the cost sometimes), it might not find the shortest path, but is quicker.\")"
   ]
  },
  {
   "cell_type": "code",
   "execution_count": 51,
   "metadata": {},
   "outputs": [],
   "source": [
    "# Question 3\n",
    "import math \n",
    "\n",
    "# The graph and coordinates data\n",
    "# TODO: implement\n",
    "graph = readGraph('USA-road-d.NY.gr.txt')\n",
    "co = readCoordinates('USA-road-d.NY.co.txt')\n",
    "\n",
    "\n",
    "# Heuristic function\n",
    "def h(node1, node2):\n",
    "    \"\"\"\n",
    "    Heuristic function 1\n",
    "    \"\"\"\n",
    "    co1 = co[node1]\n",
    "    co2 = co[node2]\n",
    "    \n",
    "    w1, l1 = angles2centimeters(co1[0], co1[1])\n",
    "    w2, l2 = angles2centimeters(co2[0], co2[1])\n",
    "    \n",
    "    EuclidDistSq = pow( w1 - w2, 2 ) + pow( l1 - l2, 2 )\n",
    "    return math.sqrt( EuclidDistSq )\n",
    "\n",
    "\n",
    "def printPath( cameFrom, start, goal ) :\n",
    "    node = goal\n",
    "    path = [goal]\n",
    "    cost = 0\n",
    "    while not (node == start) :\n",
    "        previous = cameFrom[node]\n",
    "        weights_prev = graph.getVertex(previous).getWeights()\n",
    "        index =  graph.getVertex(previous).getNeighbors().index(node)\n",
    "        cost += weights_prev[index]\n",
    "        node = previous\n",
    "        path.append(node)\n",
    "    path.reverse()\n",
    "    print(path)\n",
    "    return (path, cost)\n",
    "\n",
    "\n",
    "# Algorithm\n",
    "def a_star_search(graph, co, start, goal):\n",
    "    \"\"\"\n",
    "    A* algorithm\n",
    "    :param graph: Graph object\n",
    "    :param co: coordinates list\n",
    "    :param start: index of start node\n",
    "    :param goal: index of goal node\n",
    "    :return: The path of nodes and total length\n",
    "    \"\"\"\n",
    "    openSet = set([start]) # A set of nodes\n",
    "    closed = set([]) # A set of nodes\n",
    "\n",
    "    cameFrom = {} # A node-node key-value mapping\n",
    "\n",
    "    gScore = {} # A node-int key-value mapping\n",
    "    gScore[start] = 0\n",
    "\n",
    "    fScore = {} # A node-int key-value mapping\n",
    "    \"\"\" CHANGE HEURISTIC FUNCTION HERE \"\"\"\n",
    "    fScore[start] = gScore[start] + h(start, goal)\n",
    "\n",
    "    nodeOrder = PriorityQueue()\n",
    "    nodeOrder.put(start, fScore.get(start))\n",
    "\n",
    "    while not len(openSet) == 0 :\n",
    "        currentNode = nodeOrder.pop()\n",
    "        if currentNode == goal :\n",
    "            return printPath(cameFrom, start, goal)\n",
    "\n",
    "        openSet.remove(currentNode)\n",
    "        closed.add(currentNode)\n",
    "        neighbours = graph.getVertex(currentNode).getNeighbors()\n",
    "\n",
    "        weights = graph.getVertex(currentNode).getWeights()\n",
    "        \n",
    "        for neighbour in neighbours :\n",
    "            \n",
    "            if neighbour in closed:\n",
    "                continue\n",
    "            tentative_g_score = gScore[currentNode] + weights[ neighbours.index(neighbour) ]\n",
    "            if neighbour not in openSet:\n",
    "                openSet.add(neighbour)\n",
    "            elif tentative_g_score >= gScore[neighbour]:\n",
    "                continue\n",
    "            cameFrom[neighbour] = currentNode\n",
    "            gScore[neighbour] = tentative_g_score\n",
    "            \"\"\" CHANGE HEURISTIC FUNCTION HERE \"\"\"\n",
    "            fScore[neighbour] = gScore[neighbour] + h(neighbour, goal)\n",
    "            nodeOrder.put(neighbour, fScore[neighbour])\n",
    "            \n",
    "            # consistency check #\n",
    "            \"\"\" CHANGE HEURISTIC FUNCTION HERE x2 \"\"\"\n",
    "            if not h(currentNode, goal) <= (weights[ neighbours.index(neighbour) ] + h(neighbour, goal)):\n",
    "                print(\"Heuristics not consistent, estimate from \" + str(currentNode) + \" is bigger than from \" + str(neighbour))\n",
    "            \n",
    "    return [], 0"
   ]
  },
  {
   "cell_type": "code",
   "execution_count": 53,
   "metadata": {},
   "outputs": [
    {
     "name": "stdout",
     "output_type": "stream",
     "text": [
      "A* function with Euclidean distance heuristics does return the shortest distance path.\n",
      "An interesting thing we found with implementing a consistency check is that there are some nodes (e.g try the algorithm with group nr 44) for which the heuristic function is not consistent, but the algorithm does not include these nodes in the final path.\n"
     ]
    }
   ],
   "source": [
    "# Question 3\n",
    "print(\"A* function with Euclidean distance heuristics does return the shortest distance path.\")\n",
    "print(\"An interesting thing we found with implementing a consistency check is that there are some nodes (e.g try the algorithm with group nr 44) for which the heuristic function is not consistent, but the algorithm does not include these nodes in the final path.\")"
   ]
  },
  {
   "cell_type": "code",
   "execution_count": 48,
   "metadata": {},
   "outputs": [
    {
     "name": "stdout",
     "output_type": "stream",
     "text": [
      "A* search with an heuristic function of h(n)=0 is optimal, as the heuristic function is consistent, because the estimate to the goal from any node is always 0, which in itself is less than the cost of reaching any following node. \n",
      "The running time of the algorithm is long, so the algorithm with no heuristics is not time- or space-efficient.\n"
     ]
    }
   ],
   "source": [
    "# Question 4\n",
    "def h4(node1, node2):\n",
    "    \"\"\"\n",
    "    Heuristic function 2\n",
    "    \"\"\"\n",
    "    return 0\n",
    "print(\"A* search with an heuristic function of h(n)=0 is optimal, as the heuristic function is consistent, because the estimate to the goal from any node is always 0, which in itself is less than the cost of reaching any following node. \\nThe running time of the algorithm is long, so the algorithm with no heuristics is not time- or space-efficient.\")"
   ]
  },
  {
   "cell_type": "code",
   "execution_count": 44,
   "metadata": {},
   "outputs": [
    {
     "name": "stdout",
     "output_type": "stream",
     "text": [
      "Algorithm with Manhattan distance is not optimal, as the heuristic estimate is bigger from some nodes than the cost of reaching a certain following node plus the estimate to the goal from there.\n",
      "Algorithm with Euclidan heuristics returns the shortest distance path, but runs longer than the algorithm with Manhattan heuristics. Algorithm with Manhattan heuristics does not return the shortest distance path, but the running time in this case is very short.\n"
     ]
    }
   ],
   "source": [
    "# Question 5\n",
    "def h5(node1, node2):\n",
    "    \"\"\"\n",
    "    Heuristic function 3\n",
    "    \"\"\"\n",
    "    co1 = co[node1]\n",
    "    co2 = co[node2]\n",
    "    \n",
    "    w1, l1 = angles2centimeters(co1[0], co1[1])\n",
    "    w2, l2 = angles2centimeters(co2[0], co2[1])\n",
    "    \n",
    "    ManhattanDist = abs(w1-w2) +  abs(l1-l2)\n",
    "    return ManhattanDist\n",
    "print(\"Algorithm with Manhattan distance is not optimal, as the heuristic estimate is bigger from some nodes than the cost of reaching a certain following node plus the estimate to the goal from there (see consistency check when running the algorithm).\\nAlgorithm with Euclidan heuristics returns the shortest distance path, but runs longer than the algorithm with Manhattan heuristics. Algorithm with Manhattan heuristics does not return the shortest distance path, but the running time in this case is very short.\")"
   ]
  },
  {
   "cell_type": "code",
   "execution_count": 12,
   "metadata": {},
   "outputs": [
    {
     "name": "stdout",
     "output_type": "stream",
     "text": [
      "\n"
     ]
    }
   ],
   "source": [
    "# Queston 6\n",
    "def h6(node1, node2):\n",
    "    \"\"\"\n",
    "    Heuristic function 4\n",
    "    \"\"\"\n",
    "    return 0\n",
    "print(\"\")"
   ]
  },
  {
   "cell_type": "code",
   "execution_count": 13,
   "metadata": {},
   "outputs": [],
   "source": [
    "# Question 7\n",
    "graph = readGraph('USA-road-t.NY.gr.txt')\n",
    "co = readCoordinates('USA-road-d.NY.co.txt')"
   ]
  },
  {
   "cell_type": "code",
   "execution_count": 14,
   "metadata": {},
   "outputs": [],
   "source": [
    "# Question 8\n",
    "## Best heuristic somehow takes into account the weights (i.e. times). For example: Give weight to every node == sum of all it's (outgoing) arcs. use this weights a an additional weight in combination with euclidian heuristic.\n",
    "def h_8(node1, node2):\n",
    "    \"\"\"\n",
    "    Heuristic function 5\n",
    "    \"\"\"\n",
    "    \n",
    "    i1 = node1\n",
    "    i2 = node2\n",
    "\n",
    "    co1 = co[i1]\n",
    "    co2 = co[i2]\n",
    "\n",
    "    weight1 = graph.getVertex(i1).getWeigths()\n",
    "    weight2 = graph.getVertex(i2).getWeigths()\n",
    "    weight = (weight1 + weight2) /2\n",
    "    if not len(co1) == len(co2) :\n",
    "        print( \"Coordinates are not of the same dimensions.\" )\n",
    "\n",
    "    EuclidDistSq = 0\n",
    "    for i in range(0, len(co1)) : \n",
    "        WeightedEuclidDistSq += weight*(pow( co1[i] - co2[i], 2 ))\n",
    "    \n",
    "    return math.sqrt( WeightedEuclidDistSq )\n"
   ]
  },
  {
   "cell_type": "code",
   "execution_count": 56,
   "metadata": {},
   "outputs": [
    {
     "name": "stdout",
     "output_type": "stream",
     "text": [
      "start : 70446\n",
      "goal : 33087\n",
      "[70446, 70443, 70425, 70440, 70417, 70419, 70414, 70413, 70411, 70409, 70403, 70406, 70399, 70285, 70284, 70282, 70278, 70269, 70267, 70266, 70265, 70264, 70255, 70247, 70246, 70245, 70244, 70249, 70248, 70243, 70242, 121661, 121652, 121650, 121648, 121647, 132102, 132190, 132189, 132188, 132174, 132173, 132172, 132178, 132176, 132184, 132183, 132211, 132166, 132164, 132163, 132162, 132161, 132159, 132158, 131635, 131618, 131617, 131616, 131615, 131607, 131606, 131605, 131604, 131547, 131545, 131544, 131577, 131539, 131533, 131534, 131535, 131503, 131506, 131505, 131499, 131496, 131498, 131497, 131494, 131507, 131479, 131484, 131482, 131643, 131641, 131642, 131398, 131397, 131395, 131396, 131412, 131407, 131408, 48335, 48334, 48333, 48332, 48331, 48311, 48312, 48396, 48389, 48390, 49582, 48823, 48824, 49006, 49009, 49008, 49011, 49010, 49026, 49005, 49025, 49002, 49001, 49000, 48987, 48986, 48985, 48984, 48983, 48956, 48882, 48876, 48875, 48874, 48877, 48873, 48872, 48870, 48871, 48932, 48897, 48898, 48894, 48900, 48899, 48911, 48907, 48906, 48908, 48591, 48589, 48588, 48707, 48704, 48705, 48709, 48710, 48690, 48677, 48676, 48686, 48674, 48673, 48667, 48682, 48684, 48681, 48683, 48631, 48627, 48626, 48625, 48621, 48615, 48617, 48614, 48612, 48597, 48596, 48595, 41666, 41664, 41661, 41662, 41660, 40944, 40941, 40939, 40932, 40930, 40929, 40815, 40813, 40812, 40811, 40802, 40796, 40797, 40793, 40791, 40790, 40720, 40719, 40713, 40706, 40705, 40703, 40702, 40690, 40691, 40689, 40663, 40662, 40654, 40653, 40652, 38884, 38880, 38879, 38878, 38582, 38580, 38577, 38575, 38574, 38536, 38555, 38554, 38553, 38546, 38545, 38544, 38447, 38445, 38443, 38453, 38439, 38451, 38452, 38429, 38428, 40225, 40226, 40222, 40221, 40230, 39432, 39431, 39434, 39438, 39476, 39478, 39455, 39453, 39442, 39441, 39444, 39439, 39325, 39329, 39334, 39327, 39331, 39312, 39306, 39300, 39138, 39135, 39130, 39128, 39125, 39065, 39064, 104729, 104733, 104734, 104240, 104241, 104238, 104098, 104097, 104096, 104095, 104094, 104092, 104149, 104120, 104119, 105729, 112888, 112889, 112798, 112799, 112790, 112767, 112766, 112645, 112596, 112597, 112598, 112599, 112714, 112709, 112708, 112703, 112701, 112634, 112618, 112602, 112601, 112592, 112593, 112590, 112581, 112578, 111458, 111659, 111655, 111656, 111650, 111649, 111648, 111627, 111628, 111610, 111609, 111608, 111607, 111421, 111420, 111418, 111601, 111494, 111492, 111493, 111365, 111364, 111363, 111358, 111360, 111483, 111484, 111495, 111497, 111496, 111482, 111480, 111481, 111472, 103360, 103343, 103347, 103346, 111217, 111220, 111214, 111215, 111211, 111116, 111118, 111119, 111012, 111010, 111011, 107922, 107924, 107865, 107864, 107861, 107862, 107921, 107826, 107868, 107866, 107867, 107872, 107914, 107903, 107882, 107883, 107893, 107894, 107873, 107874, 107881, 33103, 33102, 33078, 33093, 33094, 33092, 33090, 33088, 33087]\n",
      "cost of path: 495135.0\n",
      "length of path: 388\n",
      "time elapsed: 1.61\n"
     ]
    }
   ],
   "source": [
    "# Calculate the path between your start and goal node. \n",
    "# Did you get the shortest-distance path? You can \n",
    "# verify your results in the distances.txt file.\n",
    "\n",
    "import random\n",
    "import time\n",
    "\n",
    "group_number = 1 # TODO: change to your group number\n",
    "num_vertices = graph.num_vertices  # TODO: number of vertices in the graph\n",
    "\n",
    "random.seed(group_number)\n",
    "\n",
    "start = random.randint(1, num_vertices + 1)\n",
    "goal = random.randint(1, num_vertices + 1)\n",
    "\n",
    "# Calculating the path between nodes\n",
    "print( 'start : ' +  str(start) )\n",
    "print( 'goal : ' + str(goal) )\n",
    "\n",
    "time0 = time.time()\n",
    "path, path_cost = a_star_search(graph, co, start, goal)\n",
    "time1 = time.time()\n",
    "\n",
    "print('cost of path: ' + str(path_cost))\n",
    "path_length = len(path)\n",
    "print('length of path: ' + str(path_length))\n",
    "print(\"time elapsed: \" + str(round(time1-time0, 2)))"
   ]
  }
 ],
 "metadata": {
  "colab": {
   "collapsed_sections": [],
   "name": "a_star_student.ipynb",
   "provenance": [],
   "toc_visible": true
  },
  "interpreter": {
   "hash": "87954a8c3d1df39e782159dbf2add6282b709f49ed5d77c1f3f83eb69e4d4adf"
  },
  "kernelspec": {
   "display_name": "Python 3",
   "language": "python",
   "name": "python3"
  },
  "language_info": {
   "codemirror_mode": {
    "name": "ipython",
    "version": 3
   },
   "file_extension": ".py",
   "mimetype": "text/x-python",
   "name": "python",
   "nbconvert_exporter": "python",
   "pygments_lexer": "ipython3",
   "version": "3.8.3"
  }
 },
 "nbformat": 4,
 "nbformat_minor": 1
}
