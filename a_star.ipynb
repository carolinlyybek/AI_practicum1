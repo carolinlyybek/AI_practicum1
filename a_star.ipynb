{
 "cells": [
  {
   "cell_type": "markdown",
   "metadata": {
    "colab_type": "text",
    "id": "5p8wNfqaoPWp"
   },
   "source": [
    "# Provided code\n",
    "\n",
    "You shouldn't need to change anything in this section."
   ]
  },
  {
   "cell_type": "markdown",
   "metadata": {
    "colab_type": "text",
    "id": "4KkORWl2F6M9"
   },
   "source": [
    "### Load data to Colab"
   ]
  },
  {
   "cell_type": "code",
   "execution_count": 24,
   "metadata": {
    "colab": {
     "base_uri": "https://localhost:8080/",
     "height": 72
    },
    "colab_type": "code",
    "id": "kSqty85NFq-E",
    "outputId": "f676ecf1-4364-4606-f061-d2f0f62b714d"
   },
   "outputs": [
    {
     "name": "stdout",
     "output_type": "stream",
     "text": [
      "USA-road-d.NY.gr.txt\n",
      "USA-road-t.NY.gr.txt\n",
      "USA-road-d.NY.co.txt\n"
     ]
    }
   ],
   "source": [
    "if False:  # manual loading\n",
    "    from google.colab import file\n",
    "    uploaded = files.upload()  # then browse, select the files\n",
    "    \n",
    "else:  # automatic loading\n",
    "    import requests\n",
    "    import gzip\n",
    "    \n",
    "    filepath_d_gr = 'http://users.diag.uniroma1.it/challenge9/data/USA-road-d/' + 'USA-road-d.NY.gr.gz'\n",
    "    filepath_t_gr = 'http://users.diag.uniroma1.it/challenge9/data/USA-road-t/' + 'USA-road-t.NY.gr.gz'\n",
    "    filepath_d_co = 'http://users.diag.uniroma1.it/challenge9/data/USA-road-d/' + 'USA-road-d.NY.co.gz'\n",
    "    \n",
    "    def loader(url):\n",
    "        name = url.rsplit('/', 1)[1].rsplit('.', 1)[0]\n",
    "        savename = name + '.txt'\n",
    "        \n",
    "        with open(savename, 'wb') as f_out:\n",
    "            with requests.get(url) as r:\n",
    "                f_in = gzip.decompress(r.content)\n",
    "                f_out.write(f_in)\n",
    "                \n",
    "        print(savename)\n",
    "            \n",
    "    loader(filepath_d_gr)\n",
    "    loader(filepath_t_gr)\n",
    "    loader(filepath_d_co)"
   ]
  },
  {
   "cell_type": "markdown",
   "metadata": {
    "colab_type": "text",
    "id": "MgQyZNbXoW1m"
   },
   "source": [
    "### Graph and Vertex classes"
   ]
  },
  {
   "cell_type": "code",
   "execution_count": 25,
   "metadata": {
    "colab": {},
    "colab_type": "code",
    "id": "ywNJyeOdH0DE"
   },
   "outputs": [],
   "source": [
    "# Vertex implementation\n",
    "class Vertex:\n",
    "    # Initialization of a vertex, given a neighbor and the corresponding weight\n",
    "    # Each vertex contains a list of neighbors and corresponding weights\n",
    "    def __init__(self, i, neighbor_index, weight):\n",
    "        self.index = i\n",
    "        self.neighbors = [neighbor_index]\n",
    "        self.weights = [weight]\n",
    "        \n",
    "    def getNeighbors(self):\n",
    "        return self.neighbors\n",
    "    \n",
    "    def getWeights(self):\n",
    "        return self.weights\n",
    "    \n",
    "    # Add a neighbor with corresponding weight to the vertex\n",
    "    def _addNeighbor(self, neighbor_index, weight):\n",
    "        self.neighbors.append(neighbor_index)\n",
    "        self.weights.append(weight)\n",
    "\n",
    "\n",
    "# Graph data structure\n",
    "class Graph:\n",
    "    # Initializes a graph with n_vertices nodes\n",
    "    # The graph contains a list of vertices\n",
    "    def __init__(self, n_vertices):\n",
    "        self.vertices = [None] * (n_vertices+1)\n",
    "        self.num_vertices = len(self.vertices)\n",
    "    \n",
    "    # Returns the i'th node\n",
    "    def getVertex(self, i):\n",
    "        if ((i > len(self.vertices)) | (i <= 0)):\n",
    "            raise ValueError(f'index {i} is out of bounds')\n",
    "        else:\n",
    "            return self.vertices[i]\n",
    "    \n",
    "    # Adds a new vertex to the graph\n",
    "    def _addVertex(self, vertex_index, neighor_index, distance):\n",
    "        if (self.vertices[vertex_index] == None):\n",
    "            # Construct new vertex\n",
    "            self.vertices[vertex_index] = Vertex(vertex_index, neighor_index, distance)\n",
    "        else:\n",
    "            # Vertex already in graph but other neighbor, add extra edge\n",
    "            self.vertices[vertex_index]._addNeighbor(neighor_index, distance)\n"
   ]
  },
  {
   "cell_type": "code",
   "execution_count": 26,
   "metadata": {
    "colab": {},
    "colab_type": "code",
    "id": "NLfr2jKb1BG0"
   },
   "outputs": [],
   "source": [
    "import fileinput\n",
    "\n",
    "# Read graph data\n",
    "def readGraph(filePath):\n",
    "    n_vertices = 0\n",
    "    for line in fileinput.input([filePath]):\n",
    "        words = line.split(\" \")\n",
    "        if (words[0] == \"p\"):\n",
    "            n_vertices = int(words[2])\n",
    "    graph = Graph(n_vertices)\n",
    "    for line in fileinput.input([filePath]):\n",
    "        words = line.split(\" \")\n",
    "        if (words[0] == \"a\"):\n",
    "            graph._addVertex(int(words[1]), int(words[2]), float(words[3]))\n",
    "    return graph\n",
    "\n",
    "\n",
    "# Read coordinates data\n",
    "def readCoordinates(filepath):\n",
    "    # Start to count from 1\n",
    "    coordinates = [None]\n",
    "    for line in fileinput.input([filepath]):\n",
    "        words = line.split(\" \")\n",
    "        if (words[0] == \"v\"):\n",
    "            coordinates.append([float(words[2]), float(words[3])])\n",
    "    return coordinates\n"
   ]
  },
  {
   "cell_type": "markdown",
   "metadata": {
    "colab_type": "text",
    "id": "gP6t2Queo3XF"
   },
   "source": [
    "### Usefull functions"
   ]
  },
  {
   "cell_type": "code",
   "execution_count": 27,
   "metadata": {
    "colab": {},
    "colab_type": "code",
    "id": "KzkGZ4vRpEQh"
   },
   "outputs": [],
   "source": [
    "import numpy as np\n",
    "    \n",
    "# Priority queue definition\n",
    "class PriorityQueue(dict):\n",
    "    def put(self, item, value):\n",
    "        # Watch out that value is not overwritten with higher value, shouldn't be allowed to happen!\n",
    "        if item in self :\n",
    "            value = min( value, self[item])\n",
    "        self[item] = value\n",
    "    def pop(self):\n",
    "        \"\"\"\n",
    "        Returns the item with the lowest weight\n",
    "        \"\"\"\n",
    "        item_min = min(self, key=self.get)\n",
    "        super().pop(item_min)\n",
    "        return item_min\n",
    "\n",
    "    \n",
    "def angles2centimeters(lo, la):\n",
    "    \"\"\"\n",
    "    Convert longitude and latitude to local orthogonal grid\n",
    "    :param lo: longitude\n",
    "    :param la: latitude\n",
    "    :return: height and width coordinates in cm's\n",
    "    \"\"\"\n",
    "    \n",
    "    radius = 6300 * 1e4  # cm\n",
    "    la_mean = 40794234.  # 1e-6 degree\n",
    "    lo_mean = -74016939.  # 1e-6 degree\n",
    "    \n",
    "    w = radius * np.cos(np.radians(la / 1e6)) * np.radians((lo - lo_mean) / 1e6)\n",
    "    h = radius * np.radians((la - la_mean) / 1e6)\n",
    "    \n",
    "    return w, h "
   ]
  },
  {
   "cell_type": "markdown",
   "metadata": {
    "colab_type": "text",
    "id": "A-9Y6SPNohI9"
   },
   "source": [
    "# Assignment"
   ]
  },
  {
   "cell_type": "markdown",
   "metadata": {},
   "source": [
    "## Code skeletons\n",
    "\n",
    "Feel free to move the following code to the relevant questions. \n",
    "\n",
    "Before submitting your code, make sure to execute all code fields sequentially. Notebooks that don't execute sequentially will be penalised."
   ]
  },
  {
   "cell_type": "markdown",
   "metadata": {},
   "source": [
    "## Answers\n",
    "\n",
    "Answer the questions from the assignment and add appropriate code where relevant to the question."
   ]
  },
  {
   "cell_type": "code",
   "execution_count": 6,
   "metadata": {},
   "outputs": [
    {
     "name": "stdout",
     "output_type": "stream",
     "text": [
      "The number of vertices is 264347\n",
      "The number of edges is 733846\n"
     ]
    }
   ],
   "source": [
    "# Question 1\n",
    "graph = readGraph(\"USA-road-d.NY.gr.txt\")\n",
    "vertices_nr = graph.num_vertices\n",
    "\n",
    "edges_nr = 0\n",
    "for i in range(1, vertices_nr):\n",
    "    edges_nr += len(graph.getVertex(i).getNeighbors())\n",
    "\n",
    "print(\"The number of vertices is {}\".format(vertices_nr))\n",
    "print(\"The number of edges is {}\".format(edges_nr))"
   ]
  },
  {
   "cell_type": "code",
   "execution_count": 30,
   "metadata": {},
   "outputs": [
    {
     "name": "stdout",
     "output_type": "stream",
     "text": [
      "A* algorithm finds the cheapest path from a start node to the goal by keeping track of the current cheapest path from start node to node n in g(n) and searching for the best path from current node n to goal using a heuristic function h(n), e.g Euclidean distance. Adding up g(n) and h(n) results in the estimated cost of the cheapest path through node n, marked by f(n). The heuristic function should be consistent and admissible, consistent meaning that its estimate to the goal from the current node is always less than or equal to the estimate from any neighbouring node to the goal PLUS the cost of reaching that neighbor from the current node. Admissible means that the heuristic function never overestimates the actual cost of reaching the goal. \n",
      "\n",
      "The choice of a heuristic function is vital - if h(n) =  0, the algorithm behaves as a Dijkstra's algorithm, which always finds the shortest path. If h(n) is admissible (lower than the actual cost of reaching the goal from n), it always finds the shortest path, but might make the algorithm slower. If h(n) is perfect (estimates the cost of reaching the goal from n exactly), the algorithm becomes very fast. If h(n) is not admissible (overestimates the cost sometimes), it might not find the shortest path, but is quicker.\n"
     ]
    }
   ],
   "source": [
    "# Question 2\n",
    "print(\"A* algorithm finds the cheapest path from a start node to the goal by keeping track of the current cheapest path from start node to node n in g(n) and searching for the best path from current node n to goal using a heuristic function h(n), e.g Euclidean distance. Adding up g(n) and h(n) results in the estimated cost of the cheapest path through node n, marked by f(n). The heuristic function should be consistent and admissible, consistent meaning that its estimate to the goal from the current node is always less than or equal to the estimate from any neighbouring node to the goal PLUS the cost of reaching that neighbor from the current node. Admissible means that the heuristic function never overestimates the actual cost of reaching the goal. \\n\")\n",
    "print(\"The choice of a heuristic function is vital - if h(n) =  0, the algorithm behaves as a Dijkstra's algorithm, which always finds the shortest path. If h(n) is admissible (lower than the actual cost of reaching the goal from n), it always finds the shortest path, but might make the algorithm slower. If h(n) is perfect (estimates the cost of reaching the goal from n exactly), the algorithm becomes very fast. If h(n) is not admissible (overestimates the cost sometimes), it might not find the shortest path, but is quicker.\")"
   ]
  },
  {
   "cell_type": "code",
   "execution_count": 51,
   "metadata": {},
   "outputs": [],
   "source": [
    "# Question 3\n",
    "import math \n",
    "\n",
    "# The graph and coordinates data\n",
    "# TODO: implement\n",
    "graph = readGraph('USA-road-d.NY.gr.txt')\n",
    "co = readCoordinates('USA-road-d.NY.co.txt')\n",
    "\n",
    "\n",
    "# Heuristic function\n",
    "def h(node1, node2):\n",
    "    \"\"\"\n",
    "    Heuristic function 1\n",
    "    \"\"\"\n",
    "    co1 = co[node1]\n",
    "    co2 = co[node2]\n",
    "    \n",
    "    w1, l1 = angles2centimeters(co1[0], co1[1])\n",
    "    w2, l2 = angles2centimeters(co2[0], co2[1])\n",
    "    \n",
    "    EuclidDistSq = pow( w1 - w2, 2 ) + pow( l1 - l2, 2 )\n",
    "    return math.sqrt( EuclidDistSq )\n",
    "\n",
    "\n",
    "def printPath( cameFrom, start, goal ) :\n",
    "    node = goal\n",
    "    path = [goal]\n",
    "    cost = 0\n",
    "    while not (node == start) :\n",
    "        previous = cameFrom[node]\n",
    "        weights_prev = graph.getVertex(previous).getWeights()\n",
    "        index =  graph.getVertex(previous).getNeighbors().index(node)\n",
    "        cost += weights_prev[index]\n",
    "        node = previous\n",
    "        path.append(node)\n",
    "    path.reverse()\n",
    "    print(path)\n",
    "    return (path, cost)\n",
    "\n",
    "\n",
    "# Algorithm\n",
    "def a_star_search(graph, co, start, goal):\n",
    "    \"\"\"\n",
    "    A* algorithm\n",
    "    :param graph: Graph object\n",
    "    :param co: coordinates list\n",
    "    :param start: index of start node\n",
    "    :param goal: index of goal node\n",
    "    :return: The path of nodes and total length\n",
    "    \"\"\"\n",
    "    openSet = set([start]) # A set of nodes\n",
    "    closed = set([]) # A set of nodes\n",
    "\n",
    "    cameFrom = {} # A node-node key-value mapping\n",
    "\n",
    "    gScore = {} # A node-int key-value mapping\n",
    "    gScore[start] = 0\n",
    "\n",
    "    fScore = {} # A node-int key-value mapping\n",
    "    \"\"\" CHANGE HEURISTIC FUNCTION HERE \"\"\"\n",
    "    fScore[start] = gScore[start] + h(start, goal)\n",
    "\n",
    "    nodeOrder = PriorityQueue()\n",
    "    nodeOrder.put(start, fScore.get(start))\n",
    "\n",
    "    while not len(openSet) == 0 :\n",
    "        currentNode = nodeOrder.pop()\n",
    "        if currentNode == goal :\n",
    "            return printPath(cameFrom, start, goal)\n",
    "\n",
    "        openSet.remove(currentNode)\n",
    "        closed.add(currentNode)\n",
    "        neighbours = graph.getVertex(currentNode).getNeighbors()\n",
    "\n",
    "        weights = graph.getVertex(currentNode).getWeights()\n",
    "        \n",
    "        for neighbour in neighbours :\n",
    "            \n",
    "            if neighbour in closed:\n",
    "                continue\n",
    "            tentative_g_score = gScore[currentNode] + weights[ neighbours.index(neighbour) ]\n",
    "            if neighbour not in openSet:\n",
    "                openSet.add(neighbour)\n",
    "            elif tentative_g_score >= gScore[neighbour]:\n",
    "                continue\n",
    "            cameFrom[neighbour] = currentNode\n",
    "            gScore[neighbour] = tentative_g_score\n",
    "            \"\"\" CHANGE HEURISTIC FUNCTION HERE \"\"\"\n",
    "            fScore[neighbour] = gScore[neighbour] + h(neighbour, goal)\n",
    "            nodeOrder.put(neighbour, fScore[neighbour])\n",
    "            \n",
    "            # consistency check #\n",
    "            \"\"\" CHANGE HEURISTIC FUNCTION HERE x2 \"\"\"\n",
    "            if not h(currentNode, goal) <= (weights[ neighbours.index(neighbour) ] + h(neighbour, goal)):\n",
    "                print(\"Heuristics not consistent, estimate from \" + str(currentNode) + \" is bigger than from \" + str(neighbour))\n",
    "            \n",
    "    return [], 0"
   ]
  },
  {
   "cell_type": "code",
   "execution_count": 53,
   "metadata": {},
   "outputs": [
    {
     "name": "stdout",
     "output_type": "stream",
     "text": [
      "A* function with Euclidean distance heuristics does return the shortest distance path.\n",
      "An interesting thing we found with implementing a consistency check is that there are some nodes (e.g try the algorithm with group nr 44) for which the heuristic function is not consistent, but the algorithm does not include these nodes in the final path.\n"
     ]
    }
   ],
   "source": [
    "# Question 3\n",
    "print(\"A* function with Euclidean distance heuristics does return the shortest distance path.\")\n",
    "print(\"An interesting thing we found with implementing a consistency check is that there are some nodes (e.g try the algorithm with group nr 44) for which the heuristic function is not consistent, but the algorithm does not include these nodes in the final path.\")"
   ]
  },
  {
   "cell_type": "code",
   "execution_count": 48,
   "metadata": {},
   "outputs": [
    {
     "name": "stdout",
     "output_type": "stream",
     "text": [
      "A* search with an heuristic function of h(n)=0 is optimal, as the heuristic function is consistent, because the estimate to the goal from any node is always 0, which in itself is less than the cost of reaching any following node. \n",
      "The running time of the algorithm is long, so the algorithm with no heuristics is not time- or space-efficient.\n"
     ]
    }
   ],
   "source": [
    "# Question 4\n",
    "def h4(node1, node2):\n",
    "    return math.floor(h(node1, node2))\n",
    "    '''\n",
    "    #-- EUCLIDEAN DISTANCE with cm-s, rounded down --#\n",
    "    \n",
    "    co1 = co[node1]\n",
    "    co2 = co[node2]\n",
    "    \n",
    "    w1, l1 = angles2centimeters(co1[0], co1[1])\n",
    "    w2, l2 = angles2centimeters(co2[0], co2[1])\n",
    "    \n",
    "    EuclidDistSq = pow( w1 - w2, 2 ) + pow( l1 - l2, 2 )\n",
    "    return math.floor(math.sqrt( EuclidDistSq ))\n",
    "    '''\n",
    "\n",
    "print(\"Consider the heuristic of the Euclidean distance heuristic above, but with rounding down the final result. Naturally, this will remain admissible, as the Euclidean distance heuristic is admissable and rounding down only further underestimates. It is however non-consistent. For examplle, when the heuristic returns the same value for two neighbouring nodes (possible due to the rounding down), yet the cost to travel between these two nodes is smaller than the difference between their Euclidean distance heuristic values, the consistency condition is violated.\")"
   ]
  },
  {
   "cell_type": "code",
   "execution_count": 44,
   "metadata": {},
   "outputs": [
    {
     "name": "stdout",
     "output_type": "stream",
     "text": [
      "Algorithm with Manhattan distance is not optimal, as the heuristic estimate is bigger from some nodes than the cost of reaching a certain following node plus the estimate to the goal from there.\n",
      "Algorithm with Euclidan heuristics returns the shortest distance path, but runs longer than the algorithm with Manhattan heuristics. Algorithm with Manhattan heuristics does not return the shortest distance path, but the running time in this case is very short.\n"
     ]
    }
   ],
   "source": [
    "# Question 5\n",
    "def h5(node1, node2):\n",
    "    \"\"\"\n",
    "    Heuristic function 3\n",
    "    \"\"\"\n",
    "    co1 = co[node1]\n",
    "    co2 = co[node2]\n",
    "    \n",
    "    w1, l1 = angles2centimeters(co1[0], co1[1])\n",
    "    w2, l2 = angles2centimeters(co2[0], co2[1])\n",
    "    \n",
    "    ManhattanDist = abs(w1-w2) +  abs(l1-l2)\n",
    "    return ManhattanDist\n",
    "print(\"Algorithm with Manhattan distance is not optimal, as the heuristic estimate is bigger from some nodes than the cost of reaching a certain following node plus the estimate to the goal from there (see consistency check when running the algorithm).\\nAlgorithm with Euclidan heuristics returns the shortest distance path, but runs longer than the algorithm with Manhattan heuristics. Algorithm with Manhattan heuristics does not return the shortest distance path, but the running time in this case is very short.\")"
   ]
  },
  {
   "cell_type": "code",
   "execution_count": 35,
   "metadata": {},
   "outputs": [
    {
     "name": "stdout",
     "output_type": "stream",
     "text": [
      "\n"
     ]
    }
   ],
   "source": [
    "# Queston 6\n",
    "def h6(node1, node2):\n",
    "    \"\"\"\n",
    "    Heuristic function 4\n",
    "    \"\"\"\n",
    "    return 0\n",
    "print(\"\")"
   ]
  },
  {
   "cell_type": "code",
   "execution_count": 36,
   "metadata": {},
   "outputs": [],
   "source": [
    "# Question 7\n",
    "graph = readGraph('USA-road-t.NY.gr.txt')\n",
    "co = readCoordinates('USA-road-d.NY.co.txt')\n",
    "# TODO complete below\n",
    "print(\"When used without taking the now-changed weigths of the edges into account, the Euclidean and Manhatten heuristic are no longer guaranteed to be admissible. As a result, the optimality of the solution is no longer guaranteed.\")"
   ]
  },
  {
   "cell_type": "code",
   "execution_count": 37,
   "metadata": {},
   "outputs": [],
   "source": [
    "# Question 8\n",
    "# # TODO  check that this is admissible\n",
    "##\n",
    "def h_8_preparation(graph, start, goal) :\n",
    "    return ... # list with pathlength i from start to node\n",
    "\n",
    "def h_8(node1, node2):\n",
    "    \"\"\"\n",
    "    Heuristic function 5\n",
    "    \"\"\"\n",
    "    M = ...\n",
    "    n = ...\n",
    "    i1 = ...\n",
    "    i2 = ...\n",
    "\n",
    "    return (n-i)*M\n"
   ]
  },
  {
   "cell_type": "code",
   "execution_count": 54,
   "metadata": {},
   "outputs": [
    {
     "name": "stdout",
     "output_type": "stream",
     "text": [
      "start : 214191\n",
      "goal : 61162\n",
      "Heuristics not consistent, estimate from 224557 is bigger than from 220590\n",
      "Heuristics not consistent, estimate from 64665 is bigger than from 64654\n",
      "[214191, 214190, 214189, 214188, 214180, 214178, 214177, 214141, 214140, 214137, 214131, 214130, 214128, 214127, 213988, 213990, 213984, 213975, 213974, 213972, 213971, 213916, 213915, 213944, 213912, 213942, 213939, 213941, 213921, 213922, 213918, 213919, 209963, 209956, 209953, 209940, 209938, 209935, 209934, 209923, 209922, 209924, 209851, 209928, 209845, 209844, 209832, 209830, 209829, 209997, 209996, 209991, 209989, 209992, 209993, 209985, 209981, 209978, 209474, 209473, 209468, 209469, 209464, 209463, 209477, 209481, 209479, 209436, 209441, 209439, 209438, 209425, 209432, 209430, 209426, 209265, 209428, 209268, 209266, 209259, 209249, 209336, 209330, 209331, 209298, 209294, 209292, 209290, 209281, 209279, 209277, 209276, 209273, 209271, 206986, 206985, 206982, 206988, 206969, 206977, 206972, 206970, 206926, 206921, 206912, 206913, 206907, 206905, 206756, 206757, 206740, 206738, 206767, 206764, 206762, 206717, 206713, 206715, 206708, 206710, 214370, 206694, 206053, 206050, 206042, 206034, 206039, 206035, 205975, 205972, 205963, 205958, 205805, 207273, 207123, 205799, 205783, 205782, 205778, 207093, 207055, 207053, 207048, 207047, 207039, 207038, 207037, 204240, 204130, 204239, 204237, 204226, 204242, 204221, 204700, 204245, 204232, 204230, 204228, 204234, 204252, 204202, 204176, 204175, 204159, 204183, 204187, 204182, 204184, 204181, 203950, 203955, 203952, 203945, 203935, 203936, 203870, 203931, 203900, 203909, 203904, 203903, 203901, 203888, 203887, 203883, 203881, 203672, 203663, 203662, 203655, 203652, 203651, 203620, 203618, 203609, 203610, 203608, 203590, 203587, 203588, 203584, 151332, 151330, 151327, 151326, 151311, 151306, 146008, 145966, 145975, 145972, 145970, 145967, 145438, 145435, 145433, 145432, 145447, 145445, 145441, 145425, 145422, 145421, 145419, 145416, 145406, 145404, 145396, 145398, 145383, 145386, 145384, 145377, 145376, 145379, 145378, 145568, 145563, 145565, 145564, 145351, 145558, 145511, 145512, 145505, 145509, 145491, 145483, 145500, 145496, 145494, 145493, 145126, 145127, 145129, 145125, 145112, 145107, 145135, 145133, 145085, 145086, 145084, 145065, 145079, 145067, 145066, 145068, 144879, 145062, 144878, 144885, 144882, 144881, 144862, 144864, 144858, 144863, 144917, 144915, 144913, 144911, 144910, 144890, 144898, 144896, 144891, 142872, 142869, 142871, 142859, 142860, 142819, 142811, 142812, 142703, 142809, 142823, 142710, 142704, 142705, 142663, 142664, 142657, 142132, 142127, 142133, 142098, 142112, 142087, 142086, 143267, 143266, 143265, 141726, 143246, 143244, 143243, 143193, 143192, 143187, 143179, 143195, 143180, 143177, 143175, 143035, 143027, 143025, 143015, 143017, 143004, 143003, 143018, 143008, 143010, 143009, 142942, 142943, 142941, 142949, 142948, 142946, 142950, 142951, 151262, 151261, 151260, 151264, 151263, 151257, 151255, 151256, 151271, 151274, 151275, 151270, 151181, 151183, 151182, 151180, 151185, 151186, 151176, 151144, 151143, 151145, 151137, 151204, 151203, 147239, 147237, 147227, 140375, 140328, 140329, 147221, 140373, 140374, 147170, 147158, 147159, 147155, 147156, 147197, 147198, 151952, 151957, 147196, 147193, 147076, 147077, 147078, 217680, 217681, 224225, 217678, 217677, 224196, 224142, 224214, 224147, 222567, 217974, 217941, 217940, 217847, 217848, 217920, 217927, 217925, 217870, 217879, 217873, 217874, 217871, 217853, 217854, 217851, 217784, 217783, 217775, 217770, 217769, 217794, 217795, 217790, 217745, 217727, 217732, 217731, 217706, 216776, 216778, 216770, 216777, 216754, 216762, 216750, 216761, 216755, 216756, 216708, 216707, 216703, 216692, 216701, 216802, 216799, 216801, 216792, 216795, 216793, 216602, 224507, 216600, 216589, 216590, 216585, 216587, 216570, 216568, 216565, 216563, 216547, 216548, 216553, 216550, 216551, 216087, 216083, 216084, 216240, 216213, 216214, 216216, 216210, 216209, 216142, 216152, 216145, 216143, 216144, 216100, 216098, 216159, 222455, 222446, 222447, 222440, 222442, 222449, 222451, 222448, 222404, 222391, 222402, 218536, 218537, 222478, 222462, 222463, 222466, 222465, 219988, 219989, 219985, 219986, 220692, 219993, 219994, 219995, 219996, 219998, 219971, 219972, 219968, 219960, 219952, 219953, 219792, 219789, 221684, 221685, 221682, 221666, 221664, 215836, 221660, 221661, 221619, 221620, 220793, 220794, 221623, 221609, 221610, 221417, 221415, 221439, 221440, 221428, 221381, 221425, 221420, 221419, 219898, 221374, 224351, 221362, 221359, 221238, 221237, 221233, 221230, 221212, 221211, 221217, 221170, 221169, 221165, 221161, 219381, 219382, 220965, 220966, 220954, 220919, 220913, 220890, 220889, 218138, 218137, 224276, 224286, 224285, 224284, 224287, 220980, 224665, 220398, 220397, 220389, 220376, 220377, 224265, 224252, 224266, 220278, 220276, 220275, 220268, 218059, 218060, 220250, 220036, 73066, 73065, 73064, 73063, 76645, 73060, 73059, 72638, 72635, 72634, 72630, 72629, 72619, 72607, 72580, 72574, 72545, 72482, 72481, 72462, 72422, 72419, 72393, 72391, 72381, 72141, 72143, 72132, 72128, 72126, 72125, 72079, 72074, 72072, 72060, 72059, 72056, 72047, 71973, 72054, 71818, 71819, 71975, 71971, 71970, 71976, 71960, 71963, 71961, 71957, 71956, 71955, 71905, 71903, 71901, 71926, 71927, 71922, 71911, 71879, 71906, 71749, 71751, 71754, 71738, 71740, 71752, 71681, 71777, 71775, 71776, 71758, 71355, 71354, 71351, 71350, 71349, 71342, 71319, 71318, 71317, 71293, 64557, 71290, 71292, 71291, 71282, 71280, 70846, 70840, 70841, 64812, 64805, 64804, 64810, 64800, 64799, 64755, 64757, 64760, 64751, 64753, 64752, 64722, 64721, 64707, 64714, 64705, 64709, 63503, 63496, 63494, 63491, 63490, 63488, 63453, 63452, 63449, 63437, 63435, 63432, 63436, 63430, 63429, 63288, 63285, 63284, 63266, 63268, 63264, 63258, 63259, 63255, 63194, 63192, 63185, 63186, 63184, 63167, 63165, 63149, 63159, 63161, 62887, 62889, 62880, 62881, 62871, 62862, 62868, 62824, 62817, 63669, 63586, 63584, 63582, 63579, 63580, 63536, 63535, 63534, 63533, 63532, 63512, 63515, 63513, 61787, 61784, 61781, 61779, 61778, 61763, 56875, 56876, 61761, 61704, 61178, 61166, 61164, 61165, 61163, 61162]\n",
      "cost of path: 742160.0\n",
      "length of path: 779\n",
      "time elapsed: 4.3\n"
     ]
    }
   ],
   "source": [
    "# Calculate the path between your start and goal node. \n",
    "# Did you get the shortest-distance path? You can \n",
    "# verify your results in the distances.txt file.\n",
    "\n",
    "import random\n",
    "import time\n",
    "\n",
    "group_number = 44 # TODO: change to your group number\n",
    "num_vertices = graph.num_vertices  # TODO: number of vertices in the graph\n",
    "\n",
    "random.seed(group_number)\n",
    "\n",
    "start = random.randint(1, num_vertices + 1)\n",
    "goal = random.randint(1, num_vertices + 1)\n",
    "\n",
    "# Calculating the path between nodes\n",
    "print( 'start : ' +  str(start) )\n",
    "print( 'goal : ' + str(goal) )\n",
    "\n",
    "time0 = time.time()\n",
    "path, path_cost = a_star_search(graph, co, start, goal)\n",
    "time1 = time.time()\n",
    "\n",
    "print('cost of path: ' + str(path_cost))\n",
    "path_length = len(path)\n",
    "print('length of path: ' + str(path_length))\n",
    "print(\"time elapsed: \" + str(round(time1-time0, 2)))"
   ]
  }
 ],
 "metadata": {
  "colab": {
   "collapsed_sections": [],
   "name": "a_star_student.ipynb",
   "provenance": [],
   "toc_visible": true
  },
  "interpreter": {
   "hash": "87954a8c3d1df39e782159dbf2add6282b709f49ed5d77c1f3f83eb69e4d4adf"
  },
  "kernelspec": {
   "display_name": "Python 3",
   "language": "python",
   "name": "python3"
  },
  "language_info": {
   "codemirror_mode": {
    "name": "ipython",
    "version": 3
   },
   "file_extension": ".py",
   "mimetype": "text/x-python",
   "name": "python",
   "nbconvert_exporter": "python",
   "pygments_lexer": "ipython3",
   "version": "3.8.3"
  }
 },
 "nbformat": 4,
 "nbformat_minor": 1
}
