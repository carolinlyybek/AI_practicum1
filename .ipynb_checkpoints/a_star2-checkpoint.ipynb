{
 "cells": [
  {
   "cell_type": "markdown",
   "metadata": {
    "colab_type": "text",
    "id": "5p8wNfqaoPWp"
   },
   "source": [
    "# Provided code\n",
    "\n",
    "You shouldn't need to change anything in this section."
   ]
  },
  {
   "cell_type": "markdown",
   "metadata": {
    "colab_type": "text",
    "id": "4KkORWl2F6M9"
   },
   "source": [
    "### Load data to Colab"
   ]
  },
  {
   "cell_type": "code",
   "execution_count": 8,
   "metadata": {
    "colab": {
     "base_uri": "https://localhost:8080/",
     "height": 72
    },
    "colab_type": "code",
    "id": "kSqty85NFq-E",
    "outputId": "f676ecf1-4364-4606-f061-d2f0f62b714d"
   },
   "outputs": [
    {
     "name": "stdout",
     "output_type": "stream",
     "text": [
      "USA-road-d.NY.gr.txt\n",
      "USA-road-t.NY.gr.txt\n",
      "USA-road-d.NY.co.txt\n"
     ]
    }
   ],
   "source": [
    "if False:  # manual loading\n",
    "    from google.colab import file\n",
    "    uploaded = files.upload()  # then browse, select the files\n",
    "    \n",
    "else:  # automatic loading\n",
    "    import requests\n",
    "    import gzip\n",
    "    \n",
    "    filepath_d_gr = 'http://users.diag.uniroma1.it/challenge9/data/USA-road-d/' + 'USA-road-d.NY.gr.gz'\n",
    "    filepath_t_gr = 'http://users.diag.uniroma1.it/challenge9/data/USA-road-t/' + 'USA-road-t.NY.gr.gz'\n",
    "    filepath_d_co = 'http://users.diag.uniroma1.it/challenge9/data/USA-road-d/' + 'USA-road-d.NY.co.gz'\n",
    "    \n",
    "    def loader(url):\n",
    "        name = url.rsplit('/', 1)[1].rsplit('.', 1)[0]\n",
    "        savename = name + '.txt'\n",
    "        \n",
    "        with open(savename, 'wb') as f_out:\n",
    "            with requests.get(url) as r:\n",
    "                f_in = gzip.decompress(r.content)\n",
    "                f_out.write(f_in)\n",
    "                \n",
    "        print(savename)\n",
    "            \n",
    "    loader(filepath_d_gr)\n",
    "    loader(filepath_t_gr)\n",
    "    loader(filepath_d_co)"
   ]
  },
  {
   "cell_type": "markdown",
   "metadata": {
    "colab_type": "text",
    "id": "MgQyZNbXoW1m"
   },
   "source": [
    "### Graph and Vertex classes"
   ]
  },
  {
   "cell_type": "code",
   "execution_count": 9,
   "metadata": {
    "colab": {},
    "colab_type": "code",
    "id": "ywNJyeOdH0DE"
   },
   "outputs": [],
   "source": [
    "# Vertex implementation\n",
    "class Vertex:\n",
    "    # Initialization of a vertex, given a neighbor and the corresponding weight\n",
    "    # Each vertex contains a list of neighbors and corresponding weights\n",
    "    def __init__(self, i, neighbor_index, weight):\n",
    "        self.index = i\n",
    "        self.neighbors = [neighbor_index]\n",
    "        self.weights = [weight]\n",
    "        \n",
    "    def getNeighbors(self):\n",
    "        return self.neighbors\n",
    "    \n",
    "    def getWeights(self):\n",
    "        return self.weights\n",
    "    \n",
    "    # Add a neighbor with corresponding weight to the vertex\n",
    "    def _addNeighbor(self, neighbor_index, weight):\n",
    "        self.neighbors.append(neighbor_index)\n",
    "        self.weights.append(weight)\n",
    "\n",
    "\n",
    "# Graph data structure\n",
    "class Graph:\n",
    "    # Initializes a graph with n_vertices nodes\n",
    "    # The graph contains a list of vertices\n",
    "    def __init__(self, n_vertices):\n",
    "        self.vertices = [None] * (n_vertices+1)\n",
    "        self.num_vertices = len(self.vertices)\n",
    "    \n",
    "    # Returns the i'th node\n",
    "    def getVertex(self, i):\n",
    "        if ((i > len(self.vertices)) | (i <= 0)):\n",
    "            raise ValueError(f'index {i} is out of bounds')\n",
    "        else:\n",
    "            return self.vertices[i]\n",
    "    \n",
    "    # Adds a new vertex to the graph\n",
    "    def _addVertex(self, vertex_index, neighor_index, distance):\n",
    "        if (self.vertices[vertex_index] == None):\n",
    "            # Construct new vertex\n",
    "            self.vertices[vertex_index] = Vertex(vertex_index, neighor_index, distance)\n",
    "        else:\n",
    "            # Vertex already in graph but other neighbor, add extra edge\n",
    "            self.vertices[vertex_index]._addNeighbor(neighor_index, distance)\n"
   ]
  },
  {
   "cell_type": "code",
   "execution_count": 10,
   "metadata": {
    "colab": {},
    "colab_type": "code",
    "id": "NLfr2jKb1BG0"
   },
   "outputs": [],
   "source": [
    "import fileinput\n",
    "\n",
    "# Read graph data\n",
    "def readGraph(filePath):\n",
    "    n_vertices = 0\n",
    "    for line in fileinput.input([filePath]):\n",
    "        words = line.split(\" \")\n",
    "        if (words[0] == \"p\"):\n",
    "            n_vertices = int(words[2])\n",
    "    graph = Graph(n_vertices)\n",
    "    for line in fileinput.input([filePath]):\n",
    "        words = line.split(\" \")\n",
    "        if (words[0] == \"a\"):\n",
    "            graph._addVertex(int(words[1]), int(words[2]), float(words[3]))\n",
    "    return graph\n",
    "\n",
    "\n",
    "# Read coordinates data\n",
    "def readCoordinates(filepath):\n",
    "    # Start to count from 1\n",
    "    coordinates = [None]\n",
    "    for line in fileinput.input([filepath]):\n",
    "        words = line.split(\" \")\n",
    "        if (words[0] == \"v\"):\n",
    "            coordinates.append([float(words[2]), float(words[3])])\n",
    "    return coordinates\n"
   ]
  },
  {
   "cell_type": "markdown",
   "metadata": {
    "colab_type": "text",
    "id": "gP6t2Queo3XF"
   },
   "source": [
    "### Usefull functions"
   ]
  },
  {
   "cell_type": "code",
   "execution_count": 11,
   "metadata": {
    "colab": {},
    "colab_type": "code",
    "id": "KzkGZ4vRpEQh"
   },
   "outputs": [],
   "source": [
    "import numpy as np\n",
    "    \n",
    "# Priority queue definition\n",
    "class PriorityQueue(dict):\n",
    "    def put(self, item, value):\n",
    "        # Watch out that value is not overwritten with higher value, shouldn't be allowed to happen!\n",
    "        self[item] = value  \n",
    "    \n",
    "    def pop(self):\n",
    "        \"\"\"\n",
    "        Returns the item with the lowest weight\n",
    "        \"\"\"\n",
    "        item_min = min(self, key=self.get)\n",
    "        super().pop(item_min)\n",
    "        return item_min\n",
    "\n",
    "    \n",
    "def angles2centimeters(lo, la):\n",
    "    \"\"\"\n",
    "    Convert longitude and latitude to local orthogonal grid\n",
    "    :param lo: longitude\n",
    "    :param la: latitude\n",
    "    :return: height and width coordinates in cm's\n",
    "    \"\"\"\n",
    "    \n",
    "    radius = 6300 * 1e4  # cm\n",
    "    la_mean = 40794234.  # 1e-6 degree\n",
    "    lo_mean = -74016939.  # 1e-6 degree\n",
    "    \n",
    "    w = radius * np.cos(np.radians(la / 1e6)) * np.radians((lo - lo_mean) / 1e6)\n",
    "    h = radius * np.radians((la - la_mean) / 1e6)\n",
    "    \n",
    "    return w, h "
   ]
  },
  {
   "cell_type": "markdown",
   "metadata": {
    "colab_type": "text",
    "id": "A-9Y6SPNohI9"
   },
   "source": [
    "# Assignment"
   ]
  },
  {
   "cell_type": "markdown",
   "metadata": {},
   "source": [
    "## Code skeletons\n",
    "\n",
    "Feel free to move the following code to the relevant questions. \n",
    "\n",
    "Before submitting your code, make sure to execute all code fields sequentially. Notebooks that don't execute sequentially will be penalised."
   ]
  },
  {
   "cell_type": "code",
   "execution_count": 12,
   "metadata": {
    "colab": {},
    "colab_type": "code",
    "id": "Wv4N_v5YOHN_"
   },
   "outputs": [
    {
     "ename": "SyntaxError",
     "evalue": "cannot assign to function call here. Maybe you meant '==' instead of '='? (Temp/ipykernel_31184/1956467964.py, line 76)",
     "output_type": "error",
     "traceback": [
      "\u001b[1;36m  File \u001b[1;32m\"C:\\Users\\mathi\\AppData\\Local\\Temp/ipykernel_31184/1956467964.py\"\u001b[1;36m, line \u001b[1;32m76\u001b[0m\n\u001b[1;33m    gScore.get(neighbour) = tentative_gScore\u001b[0m\n\u001b[1;37m    ^\u001b[0m\n\u001b[1;31mSyntaxError\u001b[0m\u001b[1;31m:\u001b[0m cannot assign to function call here. Maybe you meant '==' instead of '='?\n"
     ]
    }
   ],
   "source": [
    "import math \n",
    "\n",
    "# The graph and coordinates data\n",
    "# TODO: implement\n",
    "graph = readGraph('USA-road-d.NY.gr.txt')\n",
    "co = readCoordinates('USA-road-d.NY.co.txt')\n",
    "\n",
    "\n",
    "# Heuristic function\n",
    "def h(node1, node2):\n",
    "    \"\"\"\n",
    "    Heuristic function\n",
    "    \"\"\"\n",
    "    \n",
    "    i1 = node1.index\n",
    "    i2 = node2.index\n",
    "\n",
    "    co1 = co[i1]\n",
    "    co2 = co[i2]\n",
    "    if not len(co1) == len(co2) :\n",
    "        print( \"Coordinates are not of the same dimensions.\" )\n",
    "\n",
    "    EuclidDistSq = 0\n",
    "    for i in range(0, len(co1)) : \n",
    "        EuclidDistSq += ( co1[i] - co2[i] )^2\n",
    "    \n",
    "    return math.sqrt( EuclidDistSq )\n",
    "\n",
    "\n",
    "# Algorithm\n",
    "def a_star_search(graph, co, start, goal):\n",
    "    \"\"\"\n",
    "    A* algorithm\n",
    "    :param graph: Graph object\n",
    "    :param co: coordinates list\n",
    "    :param start: index of start node\n",
    "    :param goal: index of goal node\n",
    "    :return: The path of nodes and total length\n",
    "    \"\"\"\n",
    "    open = set([start]) # A set of nodes\n",
    "    closed = set([]) # A set of nodes\n",
    "\n",
    "    cameFrom = {} # A node-node key-value mapping\n",
    "\n",
    "    gScore = {} # A node-int key-value mapping\n",
    "    gScore[start] = 0\n",
    "\n",
    "    fScore = {} # A node-int key-value mapping\n",
    "    fScore[start] = h(start)\n",
    "\n",
    "    nodeOrder = PriorityQueue()\n",
    "    nodeOrder.put(start, fScore.get(start))\n",
    "\n",
    "    while not len(open) == 0 :\n",
    "        # node with lowest f value --> track with priority queue of nodes + key-value mapping (node-fScore)\n",
    "        currentNode = nodeOrder.pop()\n",
    "        \n",
    "        if currentNode == goal :\n",
    "            return cameFrom\n",
    "\n",
    "        open.remove(currentNode)\n",
    "        closed.add(currentNode)\n",
    "        neighbours = currentNode.getNeighbors()\n",
    "        weights = currentNode.getWeights()\n",
    "        \n",
    "        for neighbour in neighbours :\n",
    "            if not neighbour in closed :\n",
    "                tentative_gScore = gScore.get(currentNode) + weights[ neighbours.index(neighbour) ]\n",
    "                \n",
    "                if neighbour not in open :\n",
    "                    open.add(neighbour)\n",
    "                    nodeOrder.put( neighbour, fScore.get(neighbour) )\n",
    "                \n",
    "                if tentative_gScore < gScore.get(neighbour) :\n",
    "                    cameFrom.update( { neighbour : currentNode } )\n",
    "                    gScore.get(neighbour) = tentative_gScore\n",
    "                    fScore.get(neighbour) = gScore.get(neighbour) + h(neighbour, goal)\n",
    "    \n",
    "    return [], 0"
   ]
  },
  {
   "cell_type": "code",
   "execution_count": null,
   "metadata": {},
   "outputs": [],
   "source": [
    "# Calculate the path between your start and goal node. \n",
    "# Did you get the shortest-distance path? You can \n",
    "# verify your results in the distances.txt file.\n",
    "\n",
    "import random\n",
    "\n",
    "group_number = 0  # TODO: change to your group number\n",
    "num_vertices = 0  # TODO: number of vertices in the graph\n",
    "\n",
    "random.seed(group_number)\n",
    "\n",
    "start = random.randint(1, num_vertices + 1)\n",
    "goal = random.randint(1, num_vertices + 1)\n",
    "\n",
    "\n",
    "# Calculating the path between nodes\n",
    "path, path_length = a_star_search(graph, co, start, goal)"
   ]
  },
  {
   "cell_type": "markdown",
   "metadata": {},
   "source": [
    "## Answers\n",
    "\n",
    "Answer the questions from the assignment and add appropriate code where relevant to the question."
   ]
  },
  {
   "cell_type": "code",
   "execution_count": null,
   "metadata": {},
   "outputs": [],
   "source": [
    "# TODO"
   ]
  },
  {
   "cell_type": "code",
   "execution_count": null,
   "metadata": {},
   "outputs": [],
   "source": []
  }
 ],
 "metadata": {
  "colab": {
   "collapsed_sections": [],
   "name": "a_star_student.ipynb",
   "provenance": [],
   "toc_visible": true
  },
  "interpreter": {
   "hash": "87954a8c3d1df39e782159dbf2add6282b709f49ed5d77c1f3f83eb69e4d4adf"
  },
  "kernelspec": {
   "display_name": "Python 3",
   "language": "python",
   "name": "python3"
  },
  "language_info": {
   "codemirror_mode": {
    "name": "ipython",
    "version": 3
   },
   "file_extension": ".py",
   "mimetype": "text/x-python",
   "name": "python",
   "nbconvert_exporter": "python",
   "pygments_lexer": "ipython3",
   "version": "3.8.3"
  }
 },
 "nbformat": 4,
 "nbformat_minor": 1
}
